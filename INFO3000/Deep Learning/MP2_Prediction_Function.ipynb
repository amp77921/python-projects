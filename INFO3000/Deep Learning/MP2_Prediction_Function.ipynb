{
 "cells": [
  {
   "cell_type": "markdown",
   "id": "9bfad5df-173e-471d-9b0e-0d3ef89d8ad6",
   "metadata": {},
   "source": [
    "### Predict function and code for MP2 ###\n",
    "\n",
    "When you have finished developing your CNN application, these two celss will go in the end of the notebook.\n",
    "It will load images and use the model you have developed to predict the class the images belong to.\n",
    "\n",
    "Please instantiate the CNN model class that you build with the name \"model\" as that is what the prediction code uses.\n",
    "\n",
    "In other words if you built a model with some name like below:\n",
    "\n",
    "        class goods(nn.Module):\n",
    "            def __init__(self):\n",
    "                super(goods, self).__init__()   \n",
    "                .....               \n",
    "then instantiate it as:\n",
    "\n",
    "model = goods()"
   ]
  },
  {
   "cell_type": "code",
   "execution_count": null,
   "id": "4a88eafa-7bd6-4866-900d-7ba7da27b7da",
   "metadata": {},
   "outputs": [],
   "source": [
    "# Function to predict on new images from trained model\n",
    "\n",
    "def classify(model,image,classes,count):\n",
    "    image = io.imread(image)\n",
    "    print(image.shape)\n",
    "\n",
    "    \n",
    "    # Check if image has more than 2 channels (RGB type) and if yes convert to grayscale\n",
    "    if len(image.shape) > 2:\n",
    "        image = rgb2gray(image)\n",
    "        \n",
    "    \n",
    "    # Transform to correct shape\n",
    "    image = transform.resize(image,(28,28))\n",
    "    #image = image/255\n",
    "    print(image.shape)\n",
    "    \n",
    "    # Put in eval mode\n",
    "    model = model.eval()\n",
    "    optimizer.zero_grad()\n",
    "    with torch.no_grad():\n",
    "        image = torch.from_numpy(image) # Convert to torch tensor\n",
    "        image = image.float() # of type float\n",
    "\n",
    "        image = image.unsqueeze(0) # Add additional dimension to represent batch sie of 1\n",
    "\n",
    "        # Predict\n",
    "        output = model(image)\n",
    "        print(f\"Predictions:\\n{output.data}\\n\")\n",
    "\n",
    "        # Pick the value with the highest probability score in the output\n",
    "        _,predicted = torch.max(output.data,1)\n",
    "        print(f\"Predicted Number:{good[classes[predicted.item()]]}\\n\")"
   ]
  },
  {
   "cell_type": "code",
   "execution_count": null,
   "id": "38b0e577-6c8d-43c5-be7c-e60433ca2378",
   "metadata": {},
   "outputs": [],
   "source": [
    "# Feed new unseen images\n",
    "\n",
    "pics = ['shoe1.jpg','bag1.jpg','trouser1.jpg']\n",
    "\n",
    "count = 0\n",
    "\n",
    "# Define the classes\n",
    "classes = [0,1,2,3,4,5,6,7,8,9]\n",
    "\n",
    "read_in_images = []  # To store the images read in\n",
    "\n",
    "# Call the prediction function\n",
    "for i in pics:\n",
    "    im = io.imread(i)\n",
    "    io.imshow(im)\n",
    "    plt.show()\n",
    "    classify(model,i,classes,count)\n",
    "    count += 1"
   ]
  }
 ],
 "metadata": {
  "kernelspec": {
   "display_name": "Python 3 (ipykernel)",
   "language": "python",
   "name": "python3"
  },
  "language_info": {
   "codemirror_mode": {
    "name": "ipython",
    "version": 3
   },
   "file_extension": ".py",
   "mimetype": "text/x-python",
   "name": "python",
   "nbconvert_exporter": "python",
   "pygments_lexer": "ipython3",
   "version": "3.10.11"
  }
 },
 "nbformat": 4,
 "nbformat_minor": 5
}
