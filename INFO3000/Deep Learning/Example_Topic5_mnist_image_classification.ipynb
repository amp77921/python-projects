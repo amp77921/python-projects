{
 "cells": [
  {
   "cell_type": "markdown",
   "id": "4dd2dca1-be7c-4b57-adf8-905f1eb027cb",
   "metadata": {},
   "source": [
    "### Complete Example of developing a CNN application including saving the model and predicting on new data ###"
   ]
  },
  {
   "cell_type": "code",
   "execution_count": 1,
   "id": "faf746cd-494d-4b10-982b-d9d717f3eb65",
   "metadata": {
    "tags": []
   },
   "outputs": [
    {
     "data": {
      "text/plain": [
       "<torch._C.Generator at 0x130091090>"
      ]
     },
     "execution_count": 1,
     "metadata": {},
     "output_type": "execute_result"
    }
   ],
   "source": [
    "# Import required modules\n",
    "\n",
    "from matplotlib import pyplot as plt\n",
    "import pandas as pd\n",
    "import numpy as np\n",
    "\n",
    "import torch\n",
    "import torch.optim as optim\n",
    "import torch.nn as nn\n",
    "import torch.nn.functional as F\n",
    "from torch.utils.data import Dataset,DataLoader\n",
    "from torch.utils.data.dataset import random_split\n",
    "import torchvision.transforms as transforms\n",
    "\n",
    "from torchsummary import summary  # pip install torchsummary\n",
    "\n",
    "import os\n",
    "\n",
    "from skimage.io import imsave, imread\n",
    "from skimage import io,transform\n",
    "from skimage.color import rgb2gray\n",
    "\n",
    "import warnings\n",
    "warnings.filterwarnings('ignore')\n",
    "\n",
    "torch.manual_seed(1)"
   ]
  },
  {
   "cell_type": "code",
   "execution_count": 2,
   "id": "0cf380eb-1a91-4a8d-b8bf-bb2e1bb66044",
   "metadata": {
    "tags": []
   },
   "outputs": [],
   "source": [
    "device = 'cuda' if torch.cuda.is_available() else 'cpu'"
   ]
  },
  {
   "cell_type": "code",
   "execution_count": 3,
   "id": "c4938128-4bf3-4060-aae4-57b6d3037e41",
   "metadata": {
    "tags": []
   },
   "outputs": [],
   "source": [
    "# Which is the root directory in which my image files located?\n",
    "\n",
    "img_path = '/Users/jagannathrao/Nextcloud/UGA_2019/INFO_4150/INFO_4150_Spring_2022/Datasets/Mnist_Image_Data/Images'"
   ]
  },
  {
   "cell_type": "code",
   "execution_count": 4,
   "id": "58de8561-a11f-466e-9e0f-12ff5c148fdc",
   "metadata": {
    "tags": []
   },
   "outputs": [
    {
     "name": "stdout",
     "output_type": "stream",
     "text": [
      "/Users/jagannathrao/Nextcloud/UGA_2019/INFO_4150/INFO_4150_Spring_2022/Datasets/Mnist_Image_Data/Images/test\n",
      "/Users/jagannathrao/Nextcloud/UGA_2019/INFO_4150/INFO_4150_Spring_2022/Datasets/Mnist_Image_Data/Images/train\n"
     ]
    }
   ],
   "source": [
    "# Which directories are there in the img path which contain my inages?\n",
    "\n",
    "for root, dirs, files in os.walk(img_path, topdown=False):\n",
    "        for name in dirs:\n",
    "              print(os.path.join(root, name))\n",
    "              "
   ]
  },
  {
   "cell_type": "code",
   "execution_count": 5,
   "id": "f66f0317-1dfc-4777-a9f9-4f39669ced5d",
   "metadata": {
    "tags": []
   },
   "outputs": [
    {
     "name": "stdout",
     "output_type": "stream",
     "text": [
      "Label file contains image filename and the corresponding label:\n",
      "\n",
      "  filename  label\n",
      "0    0.png      4\n",
      "1    1.png      9\n",
      "2    2.png      1\n",
      "3    3.png      7\n",
      "4    4.png      3\n",
      "\n"
     ]
    }
   ],
   "source": [
    "# Read in the train and test labels from .csv files\n",
    "\n",
    "train_labels =  pd.read_csv('/Users/jagannathrao/Nextcloud/UGA_2019/INFO_4150/INFO_4150_Spring_2022/Datasets/Mnist_Image_Data/train.csv')\n",
    "\n",
    "test_labels =  pd.read_csv('/Users/jagannathrao/Nextcloud/UGA_2019/INFO_4150/INFO_4150_Spring_2022/Datasets/Mnist_Image_Data/test.csv')\n",
    "\n",
    "print(f\"Label file contains image filename and the corresponding label:\\n\\n{train_labels.head()}\\n\")\n"
   ]
  },
  {
   "cell_type": "code",
   "execution_count": 6,
   "id": "58c3e8a3-2067-4029-9a65-8a492fd43e85",
   "metadata": {
    "tags": []
   },
   "outputs": [
    {
     "name": "stdout",
     "output_type": "stream",
     "text": [
      "Image filename:\n",
      "/Users/jagannathrao/Nextcloud/UGA_2019/INFO_4150/INFO_4150_Spring_2022/Datasets/Mnist_Image_Data/Images/train/0.png\n",
      "\n",
      "Image Shape(28, 28, 4)\n",
      "\n",
      "Single channel image shape: (28, 28, 1)\n"
     ]
    },
    {
     "data": {
      "image/png": "[encoded data removed]",
      "text/plain": [
       "<Figure size 640x480 with 1 Axes>"
      ]
     },
     "metadata": {},
     "output_type": "display_data"
    }
   ],
   "source": [
    "# Let us check a single image file using the destination information\n",
    "img = os.path.join(img_path+'/train/'+train_labels['filename'][0])\n",
    "print(f\"Image filename:\\n{img}\")\n",
    "\n",
    "# Display image\n",
    "img = plt.imread(img)\n",
    "print(f\"\\nImage Shape{img.shape}\")\n",
    "\n",
    "# We need omly one channel as represntative of a image\n",
    "img =  img[:,:,:1]\n",
    "print(f\"\\nSingle channel image shape: {img.shape}\")\n",
    "\n",
    "# Display the image\n",
    "io.imshow(img)\n",
    "plt.show()"
   ]
  },
  {
   "cell_type": "code",
   "execution_count": 7,
   "id": "ee523765-3065-45d7-b745-f493ec0e7955",
   "metadata": {
    "tags": []
   },
   "outputs": [],
   "source": [
    "# Create the dataset class to read in data by inheriting the PyTorch Dataset class\n",
    "# The dataset class should return 1 datapoint as a tuple - an image and its label\n",
    "\n",
    "class mnist(Dataset):\n",
    "\n",
    "    def __init__(self, img_path,labels,transforms=None):\n",
    "        self.img_path = img_path\n",
    "        self.labels = labels\n",
    "        self.transforms = transforms\n",
    "        \n",
    "\n",
    "    def __len__(self):\n",
    "        return len(self.labels)\n",
    "\n",
    "\n",
    "    def __getitem__(self,idx):\n",
    "\n",
    "        img = os.path.join(self.img_path+self.labels['filename'][idx])\n",
    "        img = io.imread(img)\n",
    "        \n",
    "        img = img[:,:,:1] # Read a single channel only\n",
    "    \n",
    "        img = img/255.0   # Normalize or Feature Scale data\n",
    "        img = np.moveaxis(img,2,0)\n",
    "        \n",
    "        label = self.labels['label'][idx]\n",
    "        label = label.astype('float')\n",
    "        label = np.array(label).reshape(-1,1)\n",
    "        \n",
    "        if self.transforms is not None:\n",
    "            img = self.transforms(img)\n",
    "        \n",
    "        return torch.from_numpy(img),torch.from_numpy(label)"
   ]
  },
  {
   "cell_type": "code",
   "execution_count": 8,
   "id": "3e62253e-a858-49a1-9223-f3eca47ab7a1",
   "metadata": {
    "tags": []
   },
   "outputs": [
    {
     "name": "stdout",
     "output_type": "stream",
     "text": [
      "49000 100\n"
     ]
    }
   ],
   "source": [
    "# Instantiate the train and test data objects from the mnist class just created\n",
    "train_data =  mnist(img_path+'/train/',train_labels)\n",
    "test_data =  mnist(img_path+'/test/',test_labels)\n",
    "\n",
    "# Amount of data - train and test while testing the __len__ method\n",
    "print(train_data.__len__(),test_data.__len__())"
   ]
  },
  {
   "cell_type": "code",
   "execution_count": 9,
   "id": "faed68da-b850-4960-aa86-4a015dabd2f9",
   "metadata": {
    "tags": []
   },
   "outputs": [
    {
     "name": "stdout",
     "output_type": "stream",
     "text": [
      "Image Shape as read in:torch.Size([1, 28, 28])\n",
      "Image Type:<class 'torch.Tensor'>\n",
      "\n",
      "The label for this image is: tensor([[9.]], dtype=torch.float64)\n",
      "\n",
      "Image Shape after moving axis:(28, 28)\n",
      "Label Shape:torch.Size([1, 1])\n",
      "\n"
     ]
    },
    {
     "data": {
      "image/png": "[encoded data removed]",
      "text/plain": [
       "<Figure size 640x480 with 1 Axes>"
      ]
     },
     "metadata": {},
     "output_type": "display_data"
    }
   ],
   "source": [
    "# Look at an image while testing the __getitem__ method\n",
    "\n",
    "# Use \"get item\" method to get one data point from any index (idx = 1 in this example)\n",
    "image1,label1 = train_data.__getitem__(1)\n",
    "print(f\"Image Shape as read in:{image1.shape}\\nImage Type:{type(image1)}\\n\")\n",
    "print(f\"The label for this image is: {label1}\\n\")\n",
    "\n",
    "image1 = np.array(image1)        #1,28,28\n",
    "image1 = np.moveaxis(image1,0,2) #28,28,1\n",
    "image1 = np.squeeze(image1)      #28,28\n",
    "\n",
    "print(f\"Image Shape after moving axis:{image1.shape}\\nLabel Shape:{label1.shape}\\n\")\n",
    "\n",
    "io.imshow(image1)\n",
    "plt.title(label1)\n",
    "plt.show()\n"
   ]
  },
  {
   "cell_type": "code",
   "execution_count": 11,
   "id": "b7456b79-736f-4754-b070-118a37953cb3",
   "metadata": {
    "tags": []
   },
   "outputs": [],
   "source": [
    "# Dataloader to get mini batched of data\n",
    "\n",
    "train_loader = DataLoader(dataset=train_data, batch_size=64,shuffle=False)\n",
    "test_loader = DataLoader(dataset=test_data, batch_size=20,shuffle=False)\n",
    "\n",
    "#next(iter(train_loader))\n"
   ]
  },
  {
   "cell_type": "code",
   "execution_count": 12,
   "id": "faf644cf-5be0-4b1f-9391-2451fcc5fdc6",
   "metadata": {
    "tags": []
   },
   "outputs": [
    {
     "data": {
      "text/plain": [
       "(torch.Size([64, 1, 28, 28]), torch.Size([64, 1, 1]))"
      ]
     },
     "execution_count": 12,
     "metadata": {},
     "output_type": "execute_result"
    }
   ],
   "source": [
    "# let us check if the mini batch is being loaded everytime we call train loader\n",
    "\n",
    "for i , (x_batch,y_batch) in enumerate(train_loader):     \n",
    "    break\n",
    "\n",
    "x_batch.shape,y_batch.shape"
   ]
  },
  {
   "cell_type": "code",
   "execution_count": 13,
   "id": "1dd7cec6-d3bf-41a8-90f1-478812c7628d",
   "metadata": {
    "tags": []
   },
   "outputs": [],
   "source": [
    "# Build the CNN model architecture\n",
    "\n",
    "class Net(nn.Module):\n",
    "    def __init__(self):\n",
    "        super(Net, self).__init__()\n",
    "        self.conv1 = nn.Conv2d(1, 32, kernel_size=5,padding=2)\n",
    "        self.conv2 = nn.Conv2d(32,64, kernel_size=5,padding=2)\n",
    "        self.dropout = nn.Dropout2d(p=0.2)\n",
    "        self.conv3 = nn.Conv2d(64,128, kernel_size=5,padding=2)\n",
    "        self.fc1 = nn.Linear(7*7*128, 1000)\n",
    "        self.fc2 = nn.Linear(1000,50)\n",
    "        self.fc3 = nn.Linear(50, 10)\n",
    "        self.relu = nn.ReLU()\n",
    "        self.maxpool = nn.MaxPool2d(2)\n",
    "\n",
    "    def forward(self, x):\n",
    "        \n",
    "        x = self.conv1(x)\n",
    "        x = self.relu(x)\n",
    "        x = self.maxpool(x)\n",
    "        \n",
    "        x = self.conv2(x)\n",
    "        x = self.dropout(x)\n",
    "        x = self.relu(x)\n",
    "        x = self.maxpool(x)\n",
    "        \n",
    "        x = self.relu(self.conv3(x))\n",
    "        \n",
    "        x = x.view(-1, 7*7*128)\n",
    "        \n",
    "        x = self.relu(self.fc1(x))\n",
    "        \n",
    "        # Dropout will work only during training with that comment\n",
    "        if self.training:\n",
    "            x = self.dropout(x) \n",
    "        x = self.fc2(x)\n",
    "        x = self.fc3(x)\n",
    "        return x "
   ]
  },
  {
   "cell_type": "code",
   "execution_count": 14,
   "id": "48320025-5eea-4b05-9ab8-346fc9a26382",
   "metadata": {
    "tags": []
   },
   "outputs": [
    {
     "name": "stdout",
     "output_type": "stream",
     "text": [
      "----------------------------------------------------------------\n",
      "        Layer (type)               Output Shape         Param #\n",
      "================================================================\n",
      "            Conv2d-1           [-1, 32, 28, 28]             832\n",
      "              ReLU-2           [-1, 32, 28, 28]               0\n",
      "         MaxPool2d-3           [-1, 32, 14, 14]               0\n",
      "            Conv2d-4           [-1, 64, 14, 14]          51,264\n",
      "         Dropout2d-5           [-1, 64, 14, 14]               0\n",
      "              ReLU-6           [-1, 64, 14, 14]               0\n",
      "         MaxPool2d-7             [-1, 64, 7, 7]               0\n",
      "            Conv2d-8            [-1, 128, 7, 7]         204,928\n",
      "              ReLU-9            [-1, 128, 7, 7]               0\n",
      "           Linear-10                 [-1, 1000]       6,273,000\n",
      "             ReLU-11                 [-1, 1000]               0\n",
      "        Dropout2d-12                 [-1, 1000]               0\n",
      "           Linear-13                   [-1, 50]          50,050\n",
      "           Linear-14                   [-1, 10]             510\n",
      "================================================================\n",
      "Total params: 6,580,584\n",
      "Trainable params: 6,580,584\n",
      "Non-trainable params: 0\n",
      "----------------------------------------------------------------\n",
      "Input size (MB): 0.00\n",
      "Forward/backward pass size (MB): 0.86\n",
      "Params size (MB): 25.10\n",
      "Estimated Total Size (MB): 25.97\n",
      "----------------------------------------------------------------\n"
     ]
    }
   ],
   "source": [
    "# Print model summary\n",
    "\n",
    "model = Net()   # Instantiate the model object\n",
    "summary(model,(1,28,28))"
   ]
  },
  {
   "cell_type": "code",
   "execution_count": 15,
   "id": "4dc553b1-fa68-438d-9fde-13f7f0e22429",
   "metadata": {
    "tags": []
   },
   "outputs": [],
   "source": [
    "# We can also inspect its parameters using its state_dict\n",
    "#print(model.state_dict())\n",
    "\n",
    "# Fix learning rate, number of epochs\n",
    "lr = 0.001\n",
    "n_epochs = 1\n",
    "\n",
    "# Loss function for multiclass classification\n",
    "loss_fn = nn.CrossEntropyLoss()\n",
    "\n",
    "log_interval = 10 # Variable used to display the gradient descent progress\n",
    "\n",
    "# Instantiate the optimizer with Adam for gradient descent\n",
    "optimizer = optim.Adam(model.parameters(),lr=lr)"
   ]
  },
  {
   "cell_type": "code",
   "execution_count": 16,
   "id": "52a91508-a32f-4bb8-80a5-e07fb0b6f030",
   "metadata": {
    "tags": []
   },
   "outputs": [],
   "source": [
    "# Storage containers for capturing loss values \n",
    "\n",
    "train_losses = []\n",
    "train_counter = []\n",
    "\n",
    "test_losses = []\n",
    "test_counter = [i*len(train_data) for i in range(n_epochs + 1)]"
   ]
  },
  {
   "cell_type": "code",
   "execution_count": 17,
   "id": "5ddb5182-247e-410a-bd77-7d3f6433a20b",
   "metadata": {
    "tags": []
   },
   "outputs": [],
   "source": [
    "# Train step function\n",
    "\n",
    "def train(epoch):\n",
    "    model.train()\n",
    "    \n",
    "    # Read mini batch of training from dataloader and assign read in values to variables\n",
    "    for batch_idx, (data, target) in enumerate(train_loader):\n",
    "        data,target = data.float(),target.long()\n",
    "        #print(data,target)\n",
    "        \n",
    "        # Clear the cache from past gradient values\n",
    "        optimizer.zero_grad()\n",
    "        \n",
    "        # Predict on training data\n",
    "        output = model(data)\n",
    "        \n",
    "        # Remove the additional dimension\n",
    "        output = torch.squeeze(output) \n",
    "        target = torch.squeeze(target)\n",
    "        #print(output.shape,target.shape)\n",
    "        \n",
    "        # Compute loss, back propogate and update weights\n",
    "        loss = loss_fn(output,target)\n",
    "        loss.backward()\n",
    "        optimizer.step()\n",
    "        \n",
    "        # Bunch of code to print the progress every 10 epochs\n",
    "        if batch_idx % log_interval == 0:\n",
    "            print(f\"Train Epoch: {epoch} [{batch_idx * len(data)}/{len(train_data)} {100. * batch_idx* len(data) / len(train_data):.0f}%)]\\tLoss: {loss.item():.6f}\")\n",
    "            \n",
    "            # Store counter and loss values\n",
    "            train_losses.append(loss.item())\n",
    "            train_counter.append((batch_idx*64) + ((epoch-1)*len(train_data)))\n",
    "            \n",
    "            # Save the model and the weight parameters\n",
    "            torch.save(model.state_dict(), 'model.pth')\n",
    "            torch.save(optimizer.state_dict(), 'results.pth')"
   ]
  },
  {
   "cell_type": "code",
   "execution_count": 18,
   "id": "a3584634-78ca-4ed6-be3e-0bf2836a343c",
   "metadata": {
    "tags": []
   },
   "outputs": [],
   "source": [
    "# Test step function\n",
    "\n",
    "def test():\n",
    "    model.eval()\n",
    "    \n",
    "    # Create variable to compute accuracy\n",
    "    test_loss = 0\n",
    "    correct = 0\n",
    "    \n",
    "    # Make sure gradient descent is not happening\n",
    "    with torch.no_grad():\n",
    "        for data, target in test_loader:\n",
    "            data,target = data.float(),target.long()\n",
    "            output = model(data)\n",
    "            \n",
    "            # Remove additional dimension\n",
    "            output = torch.squeeze(output)\n",
    "            target = torch.squeeze(target)\n",
    "            #print(output.shape,target.shape)\n",
    "            \n",
    "            # Compute loss and add\n",
    "            test_loss += loss_fn(output, target).item()\n",
    "            \n",
    "            # Store the predicted value\n",
    "            pred = output.data.max(1, keepdim=True)[1]\n",
    "            \n",
    "            # Compute accuracy\n",
    "            correct += pred.eq(target.data.view_as(pred)).sum()\n",
    "    # Compute average test loss \n",
    "    test_loss /= len(test_loader)\n",
    "    \n",
    "    # Store loss values\n",
    "    test_losses.append(test_loss)\n",
    "    \n",
    "    print(f\"\\nTest set: Avg. loss: {test_loss:.4f}, Accuracy: {correct}/{len(test_data)} ({100. * correct / len(test_data):.0f}%)\")"
   ]
  },
  {
   "cell_type": "code",
   "execution_count": 19,
   "id": "98645534-f98a-44a9-bfbd-303d87b980a5",
   "metadata": {
    "tags": []
   },
   "outputs": [
    {
     "name": "stdout",
     "output_type": "stream",
     "text": [
      "\n",
      "Test set: Avg. loss: 2.3026, Accuracy: 11/100 (11%)\n",
      "Train Epoch: 1 [0/49000 0%)]\tLoss: 2.313699\n",
      "Train Epoch: 1 [640/49000 1%)]\tLoss: 1.391179\n",
      "Train Epoch: 1 [1280/49000 3%)]\tLoss: 0.667129\n",
      "Train Epoch: 1 [1920/49000 4%)]\tLoss: 0.649229\n",
      "Train Epoch: 1 [2560/49000 5%)]\tLoss: 0.593496\n",
      "Train Epoch: 1 [3200/49000 7%)]\tLoss: 0.447683\n",
      "Train Epoch: 1 [3840/49000 8%)]\tLoss: 0.218174\n",
      "Train Epoch: 1 [4480/49000 9%)]\tLoss: 0.115202\n",
      "Train Epoch: 1 [5120/49000 10%)]\tLoss: 0.419818\n",
      "Train Epoch: 1 [5760/49000 12%)]\tLoss: 0.373359\n",
      "Train Epoch: 1 [6400/49000 13%)]\tLoss: 0.287552\n",
      "Train Epoch: 1 [7040/49000 14%)]\tLoss: 0.193404\n",
      "Train Epoch: 1 [7680/49000 16%)]\tLoss: 0.092321\n",
      "Train Epoch: 1 [8320/49000 17%)]\tLoss: 0.111619\n",
      "Train Epoch: 1 [8960/49000 18%)]\tLoss: 0.105215\n",
      "Train Epoch: 1 [9600/49000 20%)]\tLoss: 0.083426\n",
      "Train Epoch: 1 [10240/49000 21%)]\tLoss: 0.106194\n",
      "Train Epoch: 1 [10880/49000 22%)]\tLoss: 0.122379\n",
      "Train Epoch: 1 [11520/49000 24%)]\tLoss: 0.144109\n",
      "Train Epoch: 1 [12160/49000 25%)]\tLoss: 0.332976\n",
      "Train Epoch: 1 [12800/49000 26%)]\tLoss: 0.115617\n",
      "Train Epoch: 1 [13440/49000 27%)]\tLoss: 0.023035\n",
      "Train Epoch: 1 [14080/49000 29%)]\tLoss: 0.044089\n",
      "Train Epoch: 1 [14720/49000 30%)]\tLoss: 0.032136\n",
      "Train Epoch: 1 [15360/49000 31%)]\tLoss: 0.123456\n",
      "Train Epoch: 1 [16000/49000 33%)]\tLoss: 0.103678\n",
      "Train Epoch: 1 [16640/49000 34%)]\tLoss: 0.110086\n",
      "Train Epoch: 1 [17280/49000 35%)]\tLoss: 0.098388\n",
      "Train Epoch: 1 [17920/49000 37%)]\tLoss: 0.065400\n",
      "Train Epoch: 1 [18560/49000 38%)]\tLoss: 0.054562\n",
      "Train Epoch: 1 [19200/49000 39%)]\tLoss: 0.269239\n",
      "Train Epoch: 1 [19840/49000 40%)]\tLoss: 0.140152\n",
      "Train Epoch: 1 [20480/49000 42%)]\tLoss: 0.202113\n",
      "Train Epoch: 1 [21120/49000 43%)]\tLoss: 0.171601\n",
      "Train Epoch: 1 [21760/49000 44%)]\tLoss: 0.077193\n",
      "Train Epoch: 1 [22400/49000 46%)]\tLoss: 0.047726\n",
      "Train Epoch: 1 [23040/49000 47%)]\tLoss: 0.171284\n",
      "Train Epoch: 1 [23680/49000 48%)]\tLoss: 0.067581\n",
      "Train Epoch: 1 [24320/49000 50%)]\tLoss: 0.028101\n",
      "Train Epoch: 1 [24960/49000 51%)]\tLoss: 0.214420\n",
      "Train Epoch: 1 [25600/49000 52%)]\tLoss: 0.124984\n",
      "Train Epoch: 1 [26240/49000 54%)]\tLoss: 0.031670\n",
      "Train Epoch: 1 [26880/49000 55%)]\tLoss: 0.093344\n",
      "Train Epoch: 1 [27520/49000 56%)]\tLoss: 0.051312\n",
      "Train Epoch: 1 [28160/49000 57%)]\tLoss: 0.027521\n",
      "Train Epoch: 1 [28800/49000 59%)]\tLoss: 0.076195\n",
      "Train Epoch: 1 [29440/49000 60%)]\tLoss: 0.255394\n",
      "Train Epoch: 1 [30080/49000 61%)]\tLoss: 0.049466\n",
      "Train Epoch: 1 [30720/49000 63%)]\tLoss: 0.027718\n",
      "Train Epoch: 1 [31360/49000 64%)]\tLoss: 0.081279\n",
      "Train Epoch: 1 [32000/49000 65%)]\tLoss: 0.053710\n",
      "Train Epoch: 1 [32640/49000 67%)]\tLoss: 0.046715\n",
      "Train Epoch: 1 [33280/49000 68%)]\tLoss: 0.088565\n",
      "Train Epoch: 1 [33920/49000 69%)]\tLoss: 0.097323\n",
      "Train Epoch: 1 [34560/49000 71%)]\tLoss: 0.084985\n",
      "Train Epoch: 1 [35200/49000 72%)]\tLoss: 0.017228\n",
      "Train Epoch: 1 [35840/49000 73%)]\tLoss: 0.014453\n",
      "Train Epoch: 1 [36480/49000 74%)]\tLoss: 0.053760\n",
      "Train Epoch: 1 [37120/49000 76%)]\tLoss: 0.044473\n",
      "Train Epoch: 1 [37760/49000 77%)]\tLoss: 0.057108\n",
      "Train Epoch: 1 [38400/49000 78%)]\tLoss: 0.089870\n",
      "Train Epoch: 1 [39040/49000 80%)]\tLoss: 0.038486\n",
      "Train Epoch: 1 [39680/49000 81%)]\tLoss: 0.246569\n",
      "Train Epoch: 1 [40320/49000 82%)]\tLoss: 0.102080\n",
      "Train Epoch: 1 [40960/49000 84%)]\tLoss: 0.014396\n",
      "Train Epoch: 1 [41600/49000 85%)]\tLoss: 0.008813\n",
      "Train Epoch: 1 [42240/49000 86%)]\tLoss: 0.167722\n",
      "Train Epoch: 1 [42880/49000 88%)]\tLoss: 0.030962\n",
      "Train Epoch: 1 [43520/49000 89%)]\tLoss: 0.146683\n",
      "Train Epoch: 1 [44160/49000 90%)]\tLoss: 0.001372\n",
      "Train Epoch: 1 [44800/49000 91%)]\tLoss: 0.056763\n",
      "Train Epoch: 1 [45440/49000 93%)]\tLoss: 0.066273\n",
      "Train Epoch: 1 [46080/49000 94%)]\tLoss: 0.012532\n",
      "Train Epoch: 1 [46720/49000 95%)]\tLoss: 0.095400\n",
      "Train Epoch: 1 [47360/49000 97%)]\tLoss: 0.146614\n",
      "Train Epoch: 1 [48000/49000 98%)]\tLoss: 0.255186\n",
      "Train Epoch: 1 [48640/49000 99%)]\tLoss: 0.080959\n",
      "\n",
      "Test set: Avg. loss: 0.0414, Accuracy: 97/100 (97%)\n",
      "Execution took: 0:01:31 secs (Wall clock time)\n"
     ]
    }
   ],
   "source": [
    "# Include evaluation requirements\n",
    "\n",
    "import time\n",
    "from datetime import timedelta\n",
    "\n",
    "start_time = time.time()\n",
    "\n",
    "# Perform lots of computations.\n",
    "\n",
    "test()\n",
    "for epoch in range(1, n_epochs + 1):\n",
    "    train(epoch)\n",
    "    test()\n",
    "    \n",
    "elapsed_time_secs = time.time() - start_time\n",
    "\n",
    "msg = \"Execution took: %s secs (Wall clock time)\" % timedelta(seconds=round(elapsed_time_secs))\n",
    "\n",
    "print(msg)"
   ]
  },
  {
   "cell_type": "code",
   "execution_count": 20,
   "id": "2a0654a4-ded1-44a9-984a-013646b00729",
   "metadata": {
    "tags": []
   },
   "outputs": [
    {
     "data": {
      "text/plain": [
       "Text(0, 0.5, 'negative log likelihood loss')"
      ]
     },
     "execution_count": 20,
     "metadata": {},
     "output_type": "execute_result"
    },
    {
     "data": {
      "image/png": "[encoded data removed]",
      "text/plain": [
       "<Figure size 640x480 with 1 Axes>"
      ]
     },
     "metadata": {},
     "output_type": "display_data"
    }
   ],
   "source": [
    "# Plot the loss curve\n",
    "\n",
    "fig = plt.figure()\n",
    "plt.plot(train_counter, train_losses, color='blue')\n",
    "plt.scatter(test_counter, test_losses, color='red')\n",
    "plt.legend(['Train Loss', 'Test Loss'], loc='upper right')\n",
    "plt.xlabel('number of training examples seen')\n",
    "plt.ylabel('negative log likelihood loss')"
   ]
  },
  {
   "cell_type": "code",
   "execution_count": 21,
   "id": "435193c8-1da8-4eb7-952f-a48595bdfb65",
   "metadata": {
    "tags": []
   },
   "outputs": [],
   "source": [
    "# Function to predict on new images from trained model\n",
    "\n",
    "read_in_images = []  # To store the images read in\n",
    "\n",
    "def classify(model,image,classes,count):\n",
    "    image = io.imread(image)\n",
    "    print(image.shape)\n",
    "    read_in_images.append(image)\n",
    "    io.imshow(read_in_images[count])\n",
    "    plt.show()\n",
    "    count += 1\n",
    "    \n",
    "    # Transform to correct shape\n",
    "    image = transform.resize(image,(28,28))\n",
    "    \n",
    "    # Check if image has more than 2 channels (RGB type) and if yes convert to grayscale\n",
    "    if len(image.shape) > 2:\n",
    "        image = rgb2gray(image)\n",
    "    print(image.shape)\n",
    "    #image = image/255\n",
    "    \n",
    "    # Put in eval mode\n",
    "    model = model.eval()\n",
    "    image = torch.from_numpy(image) # Convert to torch tensor\n",
    "    image = image.float() # of type float\n",
    "    \n",
    "    image = image.unsqueeze(0) # Add additional dimension to represent batch sie of 1\n",
    "    \n",
    "    # Predict\n",
    "    output = model(image)\n",
    "    print(f\"Predictions:\\n{output.data}\\n\")\n",
    "    \n",
    "    # Pick the value with the highes probability score in the output\n",
    "    _,predicted = torch.max(output.data,1)\n",
    "    print(f\"Predicted Number:{classes[predicted.item()]}\\n\")"
   ]
  },
  {
   "cell_type": "code",
   "execution_count": 22,
   "id": "7f0c21cd-2389-4d3c-b467-10db773a1ee9",
   "metadata": {
    "tags": []
   },
   "outputs": [
    {
     "name": "stdout",
     "output_type": "stream",
     "text": [
      "(224, 225, 3)\n"
     ]
    },
    {
     "data": {
      "image/png": "[encoded data removed]",
      "text/plain": [
       "<Figure size 640x480 with 1 Axes>"
      ]
     },
     "metadata": {},
     "output_type": "display_data"
    },
    {
     "name": "stdout",
     "output_type": "stream",
     "text": [
      "(28, 28)\n",
      "Predictions:\n",
      "tensor([[-2.0791, -0.1786, -1.2722,  2.8768, -2.6971, -2.6477, -7.3885, 10.9701,\n",
      "         -3.6793, -1.1678]])\n",
      "\n",
      "Predicted Number:7\n",
      "\n",
      "(28, 28)\n"
     ]
    },
    {
     "data": {
      "image/png": "[encoded data removed]",
      "text/plain": [
       "<Figure size 640x480 with 1 Axes>"
      ]
     },
     "metadata": {},
     "output_type": "display_data"
    },
    {
     "name": "stdout",
     "output_type": "stream",
     "text": [
      "(28, 28)\n",
      "Predictions:\n",
      "tensor([[ 1.7635, -0.7858,  0.0465, -4.2916,  0.0250,  3.6601, 13.1906, -3.4005,\n",
      "          3.9690, -1.3324]])\n",
      "\n",
      "Predicted Number:6\n",
      "\n"
     ]
    }
   ],
   "source": [
    "# Feed new unseen images\n",
    "\n",
    "pics = ['7.png','nr6.png']\n",
    "\n",
    "count = 0\n",
    "\n",
    "# Define the classes\n",
    "classes = [0,1,2,3,4,5,6,7,8,9]\n",
    "\n",
    "# Call the prediction function\n",
    "for i in pics:\n",
    "    classify(model,i,classes,count)\n",
    "    count += 1"
   ]
  },
  {
   "cell_type": "code",
   "execution_count": 24,
   "id": "5e47662e-fd6c-491b-b432-63985ecd3e4c",
   "metadata": {
    "tags": []
   },
   "outputs": [
    {
     "data": {
      "text/plain": [
       "<matplotlib.image.AxesImage at 0x1480167a0>"
      ]
     },
     "execution_count": 24,
     "metadata": {},
     "output_type": "execute_result"
    },
    {
     "data": {
      "image/png": "[encoded data removed]",
      "text/plain": [
       "<Figure size 640x480 with 1 Axes>"
      ]
     },
     "metadata": {},
     "output_type": "display_data"
    }
   ],
   "source": [
    "io.imshow('nr6.png')"
   ]
  },
  {
   "cell_type": "code",
   "execution_count": null,
   "id": "2f54902b-0dea-42ed-a32d-40728ad7a747",
   "metadata": {},
   "outputs": [],
   "source": []
  }
 ],
 "metadata": {
  "kernelspec": {
   "display_name": "Python 3 (ipykernel)",
   "language": "python",
   "name": "python3"
  },
  "language_info": {
   "codemirror_mode": {
    "name": "ipython",
    "version": 3
   },
   "file_extension": ".py",
   "mimetype": "text/x-python",
   "name": "python",
   "nbconvert_exporter": "python",
   "pygments_lexer": "ipython3",
   "version": "3.10.11"
  }
 },
 "nbformat": 4,
 "nbformat_minor": 5
}
