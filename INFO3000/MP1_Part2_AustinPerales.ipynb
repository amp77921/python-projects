{
 "cells": [
  {
   "cell_type": "markdown",
   "id": "3da05846-8989-442b-b20b-cd2adaaf7221",
   "metadata": {
    "tags": []
   },
   "source": [
    "MP1 Part 2 - Austin Perales"
   ]
  },
  {
   "cell_type": "code",
   "execution_count": 1,
   "id": "60558299-e82a-4323-82da-b33b3e80d273",
   "metadata": {
    "tags": []
   },
   "outputs": [],
   "source": [
    "import pandas as pd\n",
    "import matplotlib.pyplot as plt\n",
    "import numpy as np\n",
    "from sklearn.model_selection import train_test_split\n",
    "from sklearn.preprocessing import StandardScaler\n",
    "from sklearn.linear_model import LinearRegression\n",
    "from sklearn.decomposition import PCA\n",
    "from sklearn.metrics import mean_squared_error"
   ]
  },
  {
   "cell_type": "code",
   "execution_count": 2,
   "id": "c77c4c69-abf8-4e1c-8df3-e22c4ae7a798",
   "metadata": {
    "tags": []
   },
   "outputs": [],
   "source": [
    "#(1) Creating the column names\n",
    "column_names = ['Cement', 'Blast Furnace Slag', 'Fly Ash', 'Water', 'Superplasticizer',\n",
    "                'Coarse Aggregate', 'Fine Aggregate', 'Age', 'Concrete Compressive Strength']\n",
    "\n",
    "# Loading the dataset\n",
    "data = pd.read_csv('Concrete_Data.csv', names=column_names, header=None)"
   ]
  },
  {
   "cell_type": "code",
   "execution_count": 3,
   "id": "95c45103-bb70-4539-85e9-affb0115306f",
   "metadata": {
    "tags": []
   },
   "outputs": [
    {
     "name": "stdout",
     "output_type": "stream",
     "text": [
      "Shape of X: (1030, 8) and y: (1030,)\n",
      "\n",
      "X:\n",
      "  Cement Blast Furnace Slag Fly Ash Water Superplasticizer Coarse Aggregate  \\\n",
      "0    540                  0       0   162              2.5             1040   \n",
      "1    540                  0       0   162              2.5             1055   \n",
      "2  332.5              142.5       0   228                0              932   \n",
      "3  332.5              142.5       0   228                0              932   \n",
      "4  198.6              132.4       0   192                0            978.4   \n",
      "5    266                114       0   228                0              932   \n",
      "6    380                 95       0   228                0              932   \n",
      "7    380                 95       0   228                0              932   \n",
      "8    266                114       0   228                0              932   \n",
      "9    475                  0       0   228                0              932   \n",
      "\n",
      "  Fine Aggregate  Age  \n",
      "0            676   28  \n",
      "1            676   28  \n",
      "2            594  270  \n",
      "3            594  365  \n",
      "4          825.5  360  \n",
      "5            670   90  \n",
      "6            594  365  \n",
      "7            594   28  \n",
      "8            670   28  \n",
      "9            594   28  \n",
      "\n",
      "y\n",
      "0    79.99\n",
      "1    61.89\n",
      "2    40.27\n",
      "3    41.05\n",
      "4     44.3\n",
      "5    47.03\n",
      "6     43.7\n",
      "7    36.45\n",
      "8    45.85\n",
      "9    39.29\n",
      "Name: Concrete Compressive Strength, dtype: object\n"
     ]
    }
   ],
   "source": [
    "#(2) Set 'Concrete Compressive Strength' as the target variable\n",
    "X = data.drop('Concrete Compressive Strength', axis=1)\n",
    "y = data['Concrete Compressive Strength']\n",
    "\n",
    "# Removing first row of strings and reseting the index\n",
    "X = X.iloc[1:].reset_index(drop=True)\n",
    "y = y.iloc[1:].reset_index(drop=True)\n",
    "\n",
    "print(f\"Shape of X: {X.shape} and y: {y.shape}\\n\")\n",
    "print(f\"X:\\n{X[:10]}\\n\\ny\\n{y[:10]}\")"
   ]
  },
  {
   "cell_type": "code",
   "execution_count": 4,
   "id": "42b7b002-b2ef-4633-a48c-6429a95efb77",
   "metadata": {
    "tags": []
   },
   "outputs": [],
   "source": [
    "#(3) Train test split\n",
    "X_train, X_test, y_train, y_test = train_test_split(X, y, test_size=0.2, random_state=42)"
   ]
  },
  {
   "cell_type": "code",
   "execution_count": 5,
   "id": "0a11a88b-8ff2-49df-abba-5d26687e8a28",
   "metadata": {
    "tags": []
   },
   "outputs": [],
   "source": [
    "#(4) Standardize the features using StandardScaler\n",
    "scaler = StandardScaler()\n",
    "X_train_scaled = scaler.fit_transform(X_train)\n",
    "X_test_scaled = scaler.transform(X_test)"
   ]
  },
  {
   "cell_type": "code",
   "execution_count": 6,
   "id": "a9922ac8-7867-4596-bda5-cc0a3b787dff",
   "metadata": {
    "tags": []
   },
   "outputs": [
    {
     "name": "stdout",
     "output_type": "stream",
     "text": [
      "Train RMSE (without PCA): 10.518787334819802\n",
      "Test RMSE (without PCA): 9.796475901624358\n"
     ]
    }
   ],
   "source": [
    "#(5) Linear Regression model on the scaled data\n",
    "regressor = LinearRegression()\n",
    "regressor.fit(X_train_scaled, y_train)\n",
    "\n",
    "# Compute train and test RMSE\n",
    "y_train_pred = regressor.predict(X_train_scaled)\n",
    "train_rmse = mean_squared_error(y_train, y_train_pred, squared=False)\n",
    "y_test_pred = regressor.predict(X_test_scaled)\n",
    "test_rmse = mean_squared_error(y_test, y_test_pred, squared=False)\n",
    "print(\"Train RMSE (without PCA):\", train_rmse)\n",
    "print(\"Test RMSE (without PCA):\", test_rmse)"
   ]
  },
  {
   "cell_type": "code",
   "execution_count": 7,
   "id": "b0746034-8141-428f-99c6-d3f516dcebe7",
   "metadata": {
    "tags": []
   },
   "outputs": [
    {
     "name": "stdout",
     "output_type": "stream",
     "text": [
      "Explained variance ratios:\n",
      "[0.28019088 0.17909394 0.16827629 0.12802619 0.11811602 0.09938551\n",
      " 0.02303032]\n"
     ]
    }
   ],
   "source": [
    "#(6) PCA with 7 principal components\n",
    "pca_all = PCA(n_components=7,random_state=42)\n",
    "\n",
    "# Let us fit transform the original scaled data\n",
    "principalComponents_all = pca_all.fit_transform(X_train_scaled)\n",
    "\n",
    "# The explained variance is accessible as a method from the PCA object we created\n",
    "print(f\"Explained variance ratios:\\n{pca_all.explained_variance_ratio_}\")"
   ]
  },
  {
   "cell_type": "code",
   "execution_count": 8,
   "id": "9da91fbf-090e-4850-b637-d9842b567fc6",
   "metadata": {
    "tags": []
   },
   "outputs": [
    {
     "data": {
      "image/png": "[encoded data removed]",
      "text/plain": [
       "<Figure size 1000x700 with 1 Axes>"
      ]
     },
     "metadata": {},
     "output_type": "display_data"
    }
   ],
   "source": [
    "#(7) Plotting the cummulative explained variance chart\n",
    "plt.figure(figsize=(10, 7))\n",
    "plt.plot(np.cumsum(pca_all.explained_variance_ratio_), marker='o')\n",
    "plt.title('Cummulative Explained Variance Chart')\n",
    "plt.xlabel('Number of Components')\n",
    "plt.ylabel('Cumulative Explained Variance')\n",
    "plt.show()"
   ]
  },
  {
   "cell_type": "code",
   "execution_count": 9,
   "id": "c0edcddf-345d-42a2-a652-ccb6f67d1b37",
   "metadata": {
    "tags": []
   },
   "outputs": [
    {
     "name": "stdout",
     "output_type": "stream",
     "text": [
      "Number of Components which explain the variance in the data up to 90%: 6\n"
     ]
    }
   ],
   "source": [
    "#(8) Check how many components are there upto the point where explained variance becomes > 0.9\n",
    "n_components = np.where(np.cumsum(pca_all.explained_variance_ratio_) > 0.9)[0][0]+1\n",
    "print(f\"Number of Components which explain the variance in the data up to 90%: {np.where(np.cumsum(pca_all.explained_variance_ratio_) > 0.9)[0][0]+1}\")"
   ]
  },
  {
   "cell_type": "code",
   "execution_count": 10,
   "id": "1ff212d7-b28e-4a11-aca0-b7ce8bfe69fe",
   "metadata": {
    "tags": []
   },
   "outputs": [],
   "source": [
    "#(9) Instantiate new PCA object with n_components\n",
    "pca_final = PCA(n_components=n_components)"
   ]
  },
  {
   "cell_type": "code",
   "execution_count": 11,
   "id": "e33a9851-b205-4f39-8279-2aad39fd5c76",
   "metadata": {
    "tags": []
   },
   "outputs": [],
   "source": [
    "#(10) New PCA fit transform\n",
    "X_train_pca = pca_final.fit_transform(X_train_scaled)\n",
    "X_test_pca = pca_final.transform(X_test_scaled)"
   ]
  },
  {
   "cell_type": "code",
   "execution_count": 12,
   "id": "51b95510-f3fe-441b-af87-468c12ad1cf0",
   "metadata": {
    "tags": []
   },
   "outputs": [
    {
     "data": {
      "text/html": [
       "<style>#sk-container-id-1 {color: black;background-color: white;}#sk-container-id-1 pre{padding: 0;}#sk-container-id-1 div.sk-toggleable {background-color: white;}#sk-container-id-1 label.sk-toggleable__label {cursor: pointer;display: block;width: 100%;margin-bottom: 0;padding: 0.3em;box-sizing: border-box;text-align: center;}#sk-container-id-1 label.sk-toggleable__label-arrow:before {content: \"▸\";float: left;margin-right: 0.25em;color: #696969;}#sk-container-id-1 label.sk-toggleable__label-arrow:hover:before {color: black;}#sk-container-id-1 div.sk-estimator:hover label.sk-toggleable__label-arrow:before {color: black;}#sk-container-id-1 div.sk-toggleable__content {max-height: 0;max-width: 0;overflow: hidden;text-align: left;background-color: #f0f8ff;}#sk-container-id-1 div.sk-toggleable__content pre {margin: 0.2em;color: black;border-radius: 0.25em;background-color: #f0f8ff;}#sk-container-id-1 input.sk-toggleable__control:checked~div.sk-toggleable__content {max-height: 200px;max-width: 100%;overflow: auto;}#sk-container-id-1 input.sk-toggleable__control:checked~label.sk-toggleable__label-arrow:before {content: \"▾\";}#sk-container-id-1 div.sk-estimator input.sk-toggleable__control:checked~label.sk-toggleable__label {background-color: #d4ebff;}#sk-container-id-1 div.sk-label input.sk-toggleable__control:checked~label.sk-toggleable__label {background-color: #d4ebff;}#sk-container-id-1 input.sk-hidden--visually {border: 0;clip: rect(1px 1px 1px 1px);clip: rect(1px, 1px, 1px, 1px);height: 1px;margin: -1px;overflow: hidden;padding: 0;position: absolute;width: 1px;}#sk-container-id-1 div.sk-estimator {font-family: monospace;background-color: #f0f8ff;border: 1px dotted black;border-radius: 0.25em;box-sizing: border-box;margin-bottom: 0.5em;}#sk-container-id-1 div.sk-estimator:hover {background-color: #d4ebff;}#sk-container-id-1 div.sk-parallel-item::after {content: \"\";width: 100%;border-bottom: 1px solid gray;flex-grow: 1;}#sk-container-id-1 div.sk-label:hover label.sk-toggleable__label {background-color: #d4ebff;}#sk-container-id-1 div.sk-serial::before {content: \"\";position: absolute;border-left: 1px solid gray;box-sizing: border-box;top: 0;bottom: 0;left: 50%;z-index: 0;}#sk-container-id-1 div.sk-serial {display: flex;flex-direction: column;align-items: center;background-color: white;padding-right: 0.2em;padding-left: 0.2em;position: relative;}#sk-container-id-1 div.sk-item {position: relative;z-index: 1;}#sk-container-id-1 div.sk-parallel {display: flex;align-items: stretch;justify-content: center;background-color: white;position: relative;}#sk-container-id-1 div.sk-item::before, #sk-container-id-1 div.sk-parallel-item::before {content: \"\";position: absolute;border-left: 1px solid gray;box-sizing: border-box;top: 0;bottom: 0;left: 50%;z-index: -1;}#sk-container-id-1 div.sk-parallel-item {display: flex;flex-direction: column;z-index: 1;position: relative;background-color: white;}#sk-container-id-1 div.sk-parallel-item:first-child::after {align-self: flex-end;width: 50%;}#sk-container-id-1 div.sk-parallel-item:last-child::after {align-self: flex-start;width: 50%;}#sk-container-id-1 div.sk-parallel-item:only-child::after {width: 0;}#sk-container-id-1 div.sk-dashed-wrapped {border: 1px dashed gray;margin: 0 0.4em 0.5em 0.4em;box-sizing: border-box;padding-bottom: 0.4em;background-color: white;}#sk-container-id-1 div.sk-label label {font-family: monospace;font-weight: bold;display: inline-block;line-height: 1.2em;}#sk-container-id-1 div.sk-label-container {text-align: center;}#sk-container-id-1 div.sk-container {/* jupyter's `normalize.less` sets `[hidden] { display: none; }` but bootstrap.min.css set `[hidden] { display: none !important; }` so we also need the `!important` here to be able to override the default hidden behavior on the sphinx rendered scikit-learn.org. See: https://github.com/scikit-learn/scikit-learn/issues/21755 */display: inline-block !important;position: relative;}#sk-container-id-1 div.sk-text-repr-fallback {display: none;}</style><div id=\"sk-container-id-1\" class=\"sk-top-container\"><div class=\"sk-text-repr-fallback\"><pre>LinearRegression()</pre><b>In a Jupyter environment, please rerun this cell to show the HTML representation or trust the notebook. <br />On GitHub, the HTML representation is unable to render, please try loading this page with nbviewer.org.</b></div><div class=\"sk-container\" hidden><div class=\"sk-item\"><div class=\"sk-estimator sk-toggleable\"><input class=\"sk-toggleable__control sk-hidden--visually\" id=\"sk-estimator-id-1\" type=\"checkbox\" checked><label for=\"sk-estimator-id-1\" class=\"sk-toggleable__label sk-toggleable__label-arrow\">LinearRegression</label><div class=\"sk-toggleable__content\"><pre>LinearRegression()</pre></div></div></div></div></div>"
      ],
      "text/plain": [
       "LinearRegression()"
      ]
     },
     "execution_count": 12,
     "metadata": {},
     "output_type": "execute_result"
    }
   ],
   "source": [
    "#(11) New Linear Regression model on the reduced dataset\n",
    "regressor_pca = LinearRegression()\n",
    "regressor_pca.fit(X_train_pca, y_train)"
   ]
  },
  {
   "cell_type": "code",
   "execution_count": 13,
   "id": "acff4f87-c3cd-43c3-8e33-0868f49a0d7a",
   "metadata": {
    "tags": []
   },
   "outputs": [
    {
     "name": "stdout",
     "output_type": "stream",
     "text": [
      "Train RMSE (with PCA): 11.168046148274074\n",
      "Test RMSE (with PCA): 10.551501117180655\n"
     ]
    }
   ],
   "source": [
    "#(11) New train and test RMSE with PCA\n",
    "y_train_pred_pca = regressor_pca.predict(X_train_pca)\n",
    "train_rmse_pca = mean_squared_error(y_train, y_train_pred_pca, squared=False)\n",
    "y_test_pred_pca = regressor_pca.predict(X_test_pca)\n",
    "test_rmse_pca = mean_squared_error(y_test, y_test_pred_pca, squared=False)\n",
    "print(\"Train RMSE (with PCA):\", train_rmse_pca)\n",
    "print(\"Test RMSE (with PCA):\",test_rmse_pca)"
   ]
  },
  {
   "cell_type": "code",
   "execution_count": 14,
   "id": "b424ac3e-dec4-4041-ac0d-430268c9cf48",
   "metadata": {
    "tags": []
   },
   "outputs": [
    {
     "name": "stdout",
     "output_type": "stream",
     "text": [
      "Train RMSE Difference: 6.1723732288518125 %\n",
      "Test RMSE Difference: 7.707110425608306 %\n"
     ]
    }
   ],
   "source": [
    "#(12) Compare the RMSE values\n",
    "percentage_train_difference = abs(train_rmse_pca - train_rmse) / train_rmse * 100\n",
    "print(\"Train RMSE Difference:\", percentage_train_difference, \"%\")\n",
    "\n",
    "percentage_test_difference = abs(test_rmse_pca - test_rmse) / test_rmse * 100\n",
    "print(\"Test RMSE Difference:\", percentage_test_difference, \"%\")"
   ]
  },
  {
   "cell_type": "markdown",
   "id": "f35d82cb-eba3-4d25-811e-88ac374d6487",
   "metadata": {},
   "source": [
    "Questions:\n",
    "\n",
    "a) RMSE without PCA: 9.796475901624358, RMSE with PCA: 10.551501117180658.\n",
    "Yes, the new RMSE is within the 10% of the old RMSE. \n",
    "\n",
    "b) When using a smaller set of principal components, which explain the majority of the variance in the data, we can achieve comparable prediction performance while reducing the dimensionality of the dataset. "
   ]
  },
  {
   "cell_type": "code",
   "execution_count": null,
   "id": "8c2d0cfd-35d9-4b51-a2eb-70b35d5688da",
   "metadata": {},
   "outputs": [],
   "source": []
  }
 ],
 "metadata": {
  "kernelspec": {
   "display_name": "Python 3 (ipykernel)",
   "language": "python",
   "name": "python3"
  },
  "language_info": {
   "codemirror_mode": {
    "name": "ipython",
    "version": 3
   },
   "file_extension": ".py",
   "mimetype": "text/x-python",
   "name": "python",
   "nbconvert_exporter": "python",
   "pygments_lexer": "ipython3",
   "version": "3.10.11"
  }
 },
 "nbformat": 4,
 "nbformat_minor": 5
}
