{
 "cells": [
  {
   "cell_type": "markdown",
   "id": "abe4f6a4-5306-4a27-a573-da615d8d25c2",
   "metadata": {},
   "source": [
    "Week 5 Exercise - Austin Perales"
   ]
  },
  {
   "cell_type": "code",
   "execution_count": 1,
   "id": "dfdd035e-da69-458c-8b19-55c762316664",
   "metadata": {},
   "outputs": [],
   "source": [
    "import numpy as np"
   ]
  },
  {
   "cell_type": "code",
   "execution_count": 2,
   "id": "9eb96cb1-7208-4199-aa5e-fe6f62d29cac",
   "metadata": {},
   "outputs": [],
   "source": [
    "# Returns weighted sum (z) of shape (n_samples, n_nodes)\n",
    "def compute_z(W, X, b):\n",
    "    z = np.dot(X, W) + b\n",
    "    return z"
   ]
  },
  {
   "cell_type": "code",
   "execution_count": 3,
   "id": "88254cc7-45b6-44c7-96c3-5fa5c6e68f39",
   "metadata": {},
   "outputs": [],
   "source": [
    "# Computes the sigmoid activation given the weighted sum (z)\n",
    "def compute_sigmoid(z):\n",
    "    a = 1 / (1 + np.exp(-z))\n",
    "    return a"
   ]
  },
  {
   "cell_type": "code",
   "execution_count": 4,
   "id": "905ad0e7-197d-4dbe-8fdb-371c18d8d256",
   "metadata": {},
   "outputs": [],
   "source": [
    "# Computes the output (h) by calling the compute_z and compute_sigmoid functions\n",
    "def compute_output(W, X, b):\n",
    "    z = compute_z(W, X, b)\n",
    "    h = compute_sigmoid(z)\n",
    "    return h"
   ]
  },
  {
   "cell_type": "code",
   "execution_count": 5,
   "id": "fdaafbbf-b343-45ca-ac03-14d37118b2ec",
   "metadata": {
    "tags": []
   },
   "outputs": [
    {
     "name": "stdout",
     "output_type": "stream",
     "text": [
      "[[0.88079708]\n",
      " [0.98201379]\n",
      " [0.99752738]\n",
      " [0.99966465]\n",
      " [0.9999546 ]]\n"
     ]
    }
   ],
   "source": [
    "# Given values\n",
    "x1 = 2\n",
    "x2 = 1\n",
    "W1 = 0.5\n",
    "W2 = 0.5\n",
    "b = 0.5\n",
    "\n",
    "# X matrix\n",
    "X = np.array([[x1, x2],\n",
    "              [3, 4],\n",
    "              [5, 6],\n",
    "              [7, 8],\n",
    "              [9, 10]])\n",
    "\n",
    "# Weight matrix W\n",
    "W = np.array([[W1],\n",
    "              [W2]])\n",
    "\n",
    "# Compute output\n",
    "h = compute_output(W, X, b)\n",
    "print(h)"
   ]
  }
 ],
 "metadata": {
  "kernelspec": {
   "display_name": "Python 3 (ipykernel)",
   "language": "python",
   "name": "python3"
  },
  "language_info": {
   "codemirror_mode": {
    "name": "ipython",
    "version": 3
   },
   "file_extension": ".py",
   "mimetype": "text/x-python",
   "name": "python",
   "nbconvert_exporter": "python",
   "pygments_lexer": "ipython3",
   "version": "3.10.11"
  }
 },
 "nbformat": 4,
 "nbformat_minor": 5
}
