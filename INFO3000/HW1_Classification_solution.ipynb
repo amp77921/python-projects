{
 "cells": [
  {
   "cell_type": "markdown",
   "id": "6a6f2069-051d-47b5-8b98-9d1f0a564d4e",
   "metadata": {},
   "source": [
    "#### US Postal Service project ####"
   ]
  },
  {
   "cell_type": "code",
   "execution_count": 10,
   "id": "61e1c3f1-5cc4-426d-9659-e996b64ec3d1",
   "metadata": {
    "tags": []
   },
   "outputs": [],
   "source": [
    "# Import required libraries\n",
    "\n",
    "import pandas as pd\n",
    "import numpy as np\n",
    "import seaborn\n",
    "from matplotlib import pyplot as plt\n",
    "\n",
    "from sklearn.linear_model import LogisticRegression\n",
    "from sklearn.metrics import accuracy_score,confusion_matrix\n",
    "from sklearn.model_selection import train_test_split"
   ]
  },
  {
   "cell_type": "code",
   "execution_count": 11,
   "id": "8999edbd-f612-472a-92dc-235bd3779bec",
   "metadata": {
    "tags": []
   },
   "outputs": [
    {
     "name": "stdout",
     "output_type": "stream",
     "text": [
      "     weight sender_state  parcel_type\n",
      "0       NaN           NC          1.0\n",
      "1  2.600236           RI          1.0\n",
      "2  3.468107           NY          1.0\n",
      "3  5.361340           MN          1.0\n",
      "4  4.801337           NV          1.0\n"
     ]
    }
   ],
   "source": [
    "# Read in the data\n",
    "\n",
    "df = pd.read_csv('parcel_data.csv')\n",
    "\n",
    "print(df.head())"
   ]
  },
  {
   "cell_type": "code",
   "execution_count": 12,
   "id": "9b1abac6-ead4-43e7-8f27-fb039f88d465",
   "metadata": {
    "tags": []
   },
   "outputs": [
    {
     "name": "stdout",
     "output_type": "stream",
     "text": [
      "Missing values\n",
      "weight          59\n",
      "sender_state     0\n",
      "parcel_type      0\n",
      "dtype: int64\n"
     ]
    }
   ],
   "source": [
    "# Check for missing values\n",
    "\n",
    "print(f\"Missing values\\n{df.isna().sum()}\")"
   ]
  },
  {
   "cell_type": "code",
   "execution_count": 13,
   "id": "787e38f7-136b-4245-b5cf-be92cffc5159",
   "metadata": {
    "tags": []
   },
   "outputs": [
    {
     "name": "stdout",
     "output_type": "stream",
     "text": [
      "Missing values\n",
      "weight          0\n",
      "sender_state    0\n",
      "parcel_type     0\n",
      "dtype: int64\n"
     ]
    }
   ],
   "source": [
    "# Impute missing values\n",
    "\n",
    "df['weight'] = df['weight'].fillna(df['weight'].mean())\n",
    "\n",
    "# Check is missing values have been eliminate\n",
    "print(f\"Missing values\\n{df.isna().sum()}\")"
   ]
  },
  {
   "cell_type": "code",
   "execution_count": 14,
   "id": "47514e3e-d8e6-474d-986d-3be0756672a9",
   "metadata": {
    "tags": []
   },
   "outputs": [
    {
     "name": "stdout",
     "output_type": "stream",
     "text": [
      "Shapes: ((1000, 2), (1000,))\n"
     ]
    }
   ],
   "source": [
    "# Split into X and y\n",
    "\n",
    "X = df.drop('parcel_type',axis=1)\n",
    "y = df['parcel_type']\n",
    "\n",
    "print(f\"Shapes: {X.shape,y.shape}\")"
   ]
  },
  {
   "cell_type": "code",
   "execution_count": 15,
   "id": "6df6ab99-3cef-4fe9-a1f9-99138f951dc4",
   "metadata": {
    "tags": []
   },
   "outputs": [
    {
     "name": "stdout",
     "output_type": "stream",
     "text": [
      "Transformed X:\n",
      "     weight  sender_state_AK  sender_state_AL  sender_state_AR  \\\n",
      "0  2.053350                0                0                0   \n",
      "1  2.600236                0                0                0   \n",
      "2  3.468107                0                0                0   \n",
      "3  5.361340                0                0                0   \n",
      "4  4.801337                0                0                0   \n",
      "\n",
      "   sender_state_AZ  sender_state_CA  sender_state_CO  sender_state_CT  \\\n",
      "0                0                0                0                0   \n",
      "1                0                0                0                0   \n",
      "2                0                0                0                0   \n",
      "3                0                0                0                0   \n",
      "4                0                0                0                0   \n",
      "\n",
      "   sender_state_DE  sender_state_FL  ...  sender_state_SD  sender_state_TN  \\\n",
      "0                0                0  ...                0                0   \n",
      "1                0                0  ...                0                0   \n",
      "2                0                0  ...                0                0   \n",
      "3                0                0  ...                0                0   \n",
      "4                0                0  ...                0                0   \n",
      "\n",
      "   sender_state_TX  sender_state_UT  sender_state_VA  sender_state_VT  \\\n",
      "0                0                0                0                0   \n",
      "1                0                0                0                0   \n",
      "2                0                0                0                0   \n",
      "3                0                0                0                0   \n",
      "4                0                0                0                0   \n",
      "\n",
      "   sender_state_WA  sender_state_WI  sender_state_WV  sender_state_WY  \n",
      "0                0                0                0                0  \n",
      "1                0                0                0                0  \n",
      "2                0                0                0                0  \n",
      "3                0                0                0                0  \n",
      "4                0                0                0                0  \n",
      "\n",
      "[5 rows x 51 columns]\n"
     ]
    }
   ],
   "source": [
    "# Conver categoric values to numeric encoding\n",
    "\n",
    "X = pd.get_dummies(X)\n",
    "\n",
    "print(f\"Transformed X:\\n{X.head()}\")"
   ]
  },
  {
   "cell_type": "code",
   "execution_count": 16,
   "id": "d2c829f0-30b3-4403-bb47-b9f5314cae17",
   "metadata": {
    "tags": []
   },
   "outputs": [],
   "source": [
    "# Train test split the data\n",
    "\n",
    "X_train,X_test,y_train,y_test = train_test_split(X,y,test_size=0.1,random_state=25)"
   ]
  },
  {
   "cell_type": "code",
   "execution_count": 17,
   "id": "50fca35e-954f-49e0-a173-71d327a32393",
   "metadata": {
    "tags": []
   },
   "outputs": [
    {
     "name": "stdout",
     "output_type": "stream",
     "text": [
      "Training Accuracy: 97.22222222222221%\n",
      "\n",
      "Confusion Matrix:\n",
      "[[204  10]\n",
      " [ 15 671]]\n"
     ]
    }
   ],
   "source": [
    "# Let us use the logisitc regression algorithm and fit a model\n",
    "logreg = LogisticRegression()\n",
    "\n",
    "logreg.fit(X_train,y_train)\n",
    "\n",
    "# Predict on training data \n",
    "y_train_pred = logreg.predict(X_train)\n",
    "\n",
    "# Training accuracy and confusion matrix\n",
    "print(f\"Training Accuracy: {accuracy_score(y_train_pred,y_train)*100}%\")\n",
    "print(f\"\\nConfusion Matrix:\\n{confusion_matrix(y_train_pred,y_train)}\")"
   ]
  },
  {
   "cell_type": "code",
   "execution_count": 18,
   "id": "05a4da7a-2ea1-4f52-a070-2a63141198d2",
   "metadata": {
    "tags": []
   },
   "outputs": [
    {
     "name": "stdout",
     "output_type": "stream",
     "text": [
      "Training Accuracy: 98.0%\n",
      "\n",
      "Confusion Matrix:\n",
      "[[23  2]\n",
      " [ 0 75]]\n"
     ]
    }
   ],
   "source": [
    "# Check the performance on test data\n",
    "\n",
    "# Predict on training data \n",
    "y_test_pred = logreg.predict(X_test)\n",
    "\n",
    "# Training accuracy and confusion matrix\n",
    "print(f\"Training Accuracy: {accuracy_score(y_test_pred,y_test)*100}%\")\n",
    "print(f\"\\nConfusion Matrix:\\n{confusion_matrix(y_test_pred,y_test)}\")"
   ]
  },
  {
   "cell_type": "code",
   "execution_count": null,
   "id": "10095eb6-a3ea-4de6-a247-2412bc29421b",
   "metadata": {},
   "outputs": [],
   "source": []
  }
 ],
 "metadata": {
  "kernelspec": {
   "display_name": "Python 3 (ipykernel)",
   "language": "python",
   "name": "python3"
  },
  "language_info": {
   "codemirror_mode": {
    "name": "ipython",
    "version": 3
   },
   "file_extension": ".py",
   "mimetype": "text/x-python",
   "name": "python",
   "nbconvert_exporter": "python",
   "pygments_lexer": "ipython3",
   "version": "3.10.11"
  }
 },
 "nbformat": 4,
 "nbformat_minor": 5
}
