{
 "cells": [
  {
   "cell_type": "markdown",
   "id": "5db715d2-fcd7-4fa2-8994-48083cf1f3aa",
   "metadata": {},
   "source": [
    "### Functions for computing the output of the Perceptron ###"
   ]
  },
  {
   "cell_type": "code",
   "execution_count": 1,
   "id": "533bcfff-2e85-4009-a777-4d69b86af6fe",
   "metadata": {},
   "outputs": [],
   "source": [
    "import numpy as np"
   ]
  },
  {
   "cell_type": "code",
   "execution_count": 2,
   "id": "dd81d42e-0f85-41a2-993f-643e8f2a399a",
   "metadata": {},
   "outputs": [],
   "source": [
    "# Summation function\n",
    "# This function takes W,b and X as inputs\n",
    "# W and X are matrices and should have the shape nx1 and mxn\n",
    "# b is a matrix of shape mx1\n",
    "\n",
    "def summation(W,X,b):\n",
    "    sigma = np.dot(X,W) + b\n",
    "    return sigma\n",
    "    "
   ]
  },
  {
   "cell_type": "code",
   "execution_count": 3,
   "id": "6df45595-0c97-4149-b6bf-dbf9f1657ebe",
   "metadata": {},
   "outputs": [],
   "source": [
    "# Sigmoid function\n",
    "# It takes as input the summation result\n",
    "\n",
    "def sigmoid(z):\n",
    "    return 1/(1 + np.exp(-z))"
   ]
  },
  {
   "cell_type": "code",
   "execution_count": 4,
   "id": "9b0427ea-1446-4245-a98b-a06387af386b",
   "metadata": {},
   "outputs": [
    {
     "name": "stdout",
     "output_type": "stream",
     "text": [
      "Shapes of X, W and b:((1, 2), (2, 1), (1,))\n"
     ]
    }
   ],
   "source": [
    "# Initialize inputs values.\n",
    "\n",
    "X = np.array([[2,1]])\n",
    "W = np.array([[0.5],[0.5]])\n",
    "b = np.array([0.5])\n",
    "\n",
    "print(f\"Shapes of X, W and b:{X.shape, W.shape,b.shape}\")"
   ]
  },
  {
   "cell_type": "code",
   "execution_count": 5,
   "id": "c73beb66-1c84-4703-8e93-c95adc95e5ca",
   "metadata": {},
   "outputs": [
    {
     "name": "stdout",
     "output_type": "stream",
     "text": [
      "[[0.88079708]]\n"
     ]
    }
   ],
   "source": [
    "# Test the functions function\n",
    "\n",
    "output = sigmoid(summation(W,X,b))\n",
    "print(output)"
   ]
  },
  {
   "cell_type": "code",
   "execution_count": 6,
   "id": "05f5a8ae-e6cd-4d60-93fa-d9708d4c2e74",
   "metadata": {},
   "outputs": [
    {
     "name": "stdout",
     "output_type": "stream",
     "text": [
      "Shape of X: (5, 2) and X:\n",
      "[[1 5]\n",
      " [2 6]\n",
      " [3 7]\n",
      " [4 8]\n",
      " [1 0]]\n"
     ]
    }
   ],
   "source": [
    "# New data\n",
    "\n",
    "X1 = np.array([1,5,2,6,3,7,4,8,1,0]).reshape(5,2)\n",
    "print(f\"Shape of X: {X1.shape} and X:\\n{X1}\")"
   ]
  },
  {
   "cell_type": "code",
   "execution_count": 7,
   "id": "b1e094bf-c25e-4df7-aa3b-1bb13f833259",
   "metadata": {},
   "outputs": [
    {
     "name": "stdout",
     "output_type": "stream",
     "text": [
      "[[0.97068777]\n",
      " [0.98901306]\n",
      " [0.99592986]\n",
      " [0.99849882]\n",
      " [0.73105858]]\n"
     ]
    }
   ],
   "source": [
    "# Test function with new data\n",
    "\n",
    "output = sigmoid(summation(W,X1,b))\n",
    "print(output)"
   ]
  },
  {
   "cell_type": "code",
   "execution_count": 8,
   "id": "81c8eaa4-d3c5-442f-802f-0caa2441825a",
   "metadata": {},
   "outputs": [
    {
     "name": "stdout",
     "output_type": "stream",
     "text": [
      "Output = [0.97068777]\n"
     ]
    }
   ],
   "source": [
    "# lets do a manual calculation on the first row of data to check our results\n",
    "\n",
    "zz = b + 1*0.5 + 5*0.5\n",
    "print(f\"Output = {1/(1 + np.exp(-zz))}\")"
   ]
  },
  {
   "cell_type": "markdown",
   "id": "c18f404b-1540-4286-8a91-05d326ac0f22",
   "metadata": {},
   "source": [
    "## Extra ##\n",
    "\n",
    "### How to convert the whole thing into a class to enable these computations by creating objects ###"
   ]
  },
  {
   "cell_type": "code",
   "execution_count": 9,
   "id": "c8edc374-79e0-471f-b765-f4c9a13b5267",
   "metadata": {},
   "outputs": [],
   "source": [
    "class Neuron:\n",
    "    def __init__(self,W,X,b):\n",
    "        self.W = W\n",
    "        self.X = X\n",
    "        self.b = b\n",
    "        \n",
    "    def summation(self):\n",
    "        return np.dot(self.X,self.W) + self.b\n",
    "    \n",
    "    def sigmoid(self):\n",
    "        return 1/(1 + np.exp(-self.summation()))"
   ]
  },
  {
   "cell_type": "code",
   "execution_count": 10,
   "id": "fb95f8a1-543f-436f-9696-be74b7d99775",
   "metadata": {},
   "outputs": [],
   "source": [
    "# Instantiate  objects\n",
    "\n",
    "neuron1 = Neuron(W,X,b)\n",
    "neuron2 = Neuron(W,X1,b)\n"
   ]
  },
  {
   "cell_type": "code",
   "execution_count": 11,
   "id": "2dfb0cc1-dc02-49ae-a468-f35d36db78aa",
   "metadata": {},
   "outputs": [
    {
     "name": "stdout",
     "output_type": "stream",
     "text": [
      "Summation: [[2.]]\n",
      "Activation Output: [[0.88079708]]\n"
     ]
    }
   ],
   "source": [
    "# neuron 1 output\n",
    "\n",
    "print(f\"Summation: {neuron1.summation()}\")\n",
    "print(f\"Activation Output: {neuron1.sigmoid()}\")"
   ]
  },
  {
   "cell_type": "code",
   "execution_count": 12,
   "id": "c23dcf17-22c0-4d04-896e-9a3700dc5449",
   "metadata": {},
   "outputs": [
    {
     "name": "stdout",
     "output_type": "stream",
     "text": [
      "Summation:\n",
      "[[3.5]\n",
      " [4.5]\n",
      " [5.5]\n",
      " [6.5]\n",
      " [1. ]]\n",
      "Activation Output:\n",
      "[[0.97068777]\n",
      " [0.98901306]\n",
      " [0.99592986]\n",
      " [0.99849882]\n",
      " [0.73105858]]\n"
     ]
    }
   ],
   "source": [
    "# neuron 2 output\n",
    "\n",
    "print(f\"Summation:\\n{neuron2.summation()}\")\n",
    "print(f\"Activation Output:\\n{neuron2.sigmoid()}\")"
   ]
  },
  {
   "cell_type": "code",
   "execution_count": 13,
   "id": "a3c58a9f-6bd7-473f-9512-ccab00505406",
   "metadata": {},
   "outputs": [
    {
     "name": "stdout",
     "output_type": "stream",
     "text": [
      "[[0.88079708]] \n",
      "\n",
      "[[0.97068777]\n",
      " [0.98901306]\n",
      " [0.99592986]\n",
      " [0.99849882]\n",
      " [0.73105858]]\n"
     ]
    }
   ],
   "source": [
    "# We could also do\n",
    "\n",
    "print(neuron1.sigmoid(),'\\n')\n",
    "print(neuron2.sigmoid())"
   ]
  },
  {
   "cell_type": "code",
   "execution_count": null,
   "id": "12006057-3191-4344-9fef-efd6a9c5244c",
   "metadata": {},
   "outputs": [],
   "source": []
  }
 ],
 "metadata": {
  "kernelspec": {
   "display_name": "Python 3 (ipykernel)",
   "language": "python",
   "name": "python3"
  },
  "language_info": {
   "codemirror_mode": {
    "name": "ipython",
    "version": 3
   },
   "file_extension": ".py",
   "mimetype": "text/x-python",
   "name": "python",
   "nbconvert_exporter": "python",
   "pygments_lexer": "ipython3",
   "version": "3.10.11"
  }
 },
 "nbformat": 4,
 "nbformat_minor": 5
}
