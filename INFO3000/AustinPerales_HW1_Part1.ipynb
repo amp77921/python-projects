{
 "cells": [
  {
   "cell_type": "code",
   "execution_count": 1,
   "id": "ac334463-6190-4e39-a699-6a742c223504",
   "metadata": {},
   "outputs": [],
   "source": [
    "# Austin Perales - INFO 3000"
   ]
  },
  {
   "cell_type": "code",
   "execution_count": 2,
   "id": "450e00bb-a7e0-4067-909a-4673b31c1eab",
   "metadata": {
    "tags": []
   },
   "outputs": [],
   "source": [
    "# Part 1"
   ]
  },
  {
   "cell_type": "code",
   "execution_count": 2,
   "id": "2e120051-6466-46a0-a4c7-ddfbc0855e21",
   "metadata": {},
   "outputs": [],
   "source": [
    "import pandas as pd\n",
    "import numpy as np\n",
    "from matplotlib import pyplot as plt\n",
    "import seaborn as sns"
   ]
  },
  {
   "cell_type": "code",
   "execution_count": 3,
   "id": "bf82ab46-48aa-425c-9c63-146a65d2400d",
   "metadata": {},
   "outputs": [],
   "source": [
    "#Reading Data\n",
    "data = pd.read_csv('price_Optimization.csv')"
   ]
  },
  {
   "cell_type": "code",
   "execution_count": 5,
   "id": "469d8ca7-aaa6-43e7-abf8-24f1eeaf4dae",
   "metadata": {
    "tags": []
   },
   "outputs": [
    {
     "data": {
      "text/html": [
       "<div>\n",
       "<style scoped>\n",
       "    .dataframe tbody tr th:only-of-type {\n",
       "        vertical-align: middle;\n",
       "    }\n",
       "\n",
       "    .dataframe tbody tr th {\n",
       "        vertical-align: top;\n",
       "    }\n",
       "\n",
       "    .dataframe thead th {\n",
       "        text-align: right;\n",
       "    }\n",
       "</style>\n",
       "<table border=\"1\" class=\"dataframe\">\n",
       "  <thead>\n",
       "    <tr style=\"text-align: right;\">\n",
       "      <th></th>\n",
       "      <th>Competitors_Price</th>\n",
       "      <th>Demand</th>\n",
       "    </tr>\n",
       "  </thead>\n",
       "  <tbody>\n",
       "    <tr>\n",
       "      <th>0</th>\n",
       "      <td>5.939322</td>\n",
       "      <td>993.716473</td>\n",
       "    </tr>\n",
       "    <tr>\n",
       "      <th>1</th>\n",
       "      <td>7.436704</td>\n",
       "      <td>993.329599</td>\n",
       "    </tr>\n",
       "    <tr>\n",
       "      <th>2</th>\n",
       "      <td>6.424870</td>\n",
       "      <td>993.499055</td>\n",
       "    </tr>\n",
       "    <tr>\n",
       "      <th>3</th>\n",
       "      <td>5.903949</td>\n",
       "      <td>993.758589</td>\n",
       "    </tr>\n",
       "    <tr>\n",
       "      <th>4</th>\n",
       "      <td>4.812893</td>\n",
       "      <td>993.679768</td>\n",
       "    </tr>\n",
       "  </tbody>\n",
       "</table>\n",
       "</div>"
      ],
      "text/plain": [
       "   Competitors_Price      Demand\n",
       "0           5.939322  993.716473\n",
       "1           7.436704  993.329599\n",
       "2           6.424870  993.499055\n",
       "3           5.903949  993.758589\n",
       "4           4.812893  993.679768"
      ]
     },
     "execution_count": 5,
     "metadata": {},
     "output_type": "execute_result"
    }
   ],
   "source": [
    "data.head()"
   ]
  },
  {
   "cell_type": "code",
   "execution_count": 6,
   "id": "dbb0de93-e88c-4079-a41e-4982576a1031",
   "metadata": {
    "tags": []
   },
   "outputs": [
    {
     "name": "stdout",
     "output_type": "stream",
     "text": [
      "Shape of X:(100, 1) and y (100, 1)\n",
      "\n",
      "X:\n",
      "[[5.93932154]\n",
      " [7.4367043 ]\n",
      " [6.42487038]\n",
      " [5.90394865]\n",
      " [4.81289319]\n",
      " [6.81304702]\n",
      " [4.9382849 ]\n",
      " [9.02595701]\n",
      " [9.67296484]\n",
      " [4.45097367]]\n",
      "\n",
      "y\n",
      "[[993.716473  ]\n",
      " [993.32959908]\n",
      " [993.49905549]\n",
      " [993.75858897]\n",
      " [993.67976795]\n",
      " [993.3457197 ]\n",
      " [993.68506258]\n",
      " [993.20474236]\n",
      " [993.1824333 ]\n",
      " [993.78976153]]\n"
     ]
    }
   ],
   "source": [
    "#Seperating X and y variables\n",
    "X = data['Competitors_Price'].values.reshape(-1,1)\n",
    "y = data['Demand'].values.reshape(-1,1)\n",
    "\n",
    "print(f\"Shape of X:{X.shape} and y {y.shape}\\n\")\n",
    "print(f\"X:\\n{X[:10]}\\n\\ny\\n{y[:10]}\")"
   ]
  },
  {
   "cell_type": "code",
   "execution_count": 7,
   "id": "663566d3-4ef1-432e-9de1-5ef225e0ca94",
   "metadata": {
    "tags": []
   },
   "outputs": [
    {
     "data": {
      "image/png": "[encoded data removed]",
      "text/plain": [
       "<Figure size 640x480 with 1 Axes>"
      ]
     },
     "metadata": {},
     "output_type": "display_data"
    }
   ],
   "source": [
    "#Visualize the data\n",
    "plt.scatter(X,y,s=5)\n",
    "plt.xlabel('Competitors Price')\n",
    "plt.ylabel('Demand')\n",
    "plt.title('Competitors Price vs. Demand')\n",
    "plt.show()"
   ]
  },
  {
   "cell_type": "code",
   "execution_count": 8,
   "id": "8bab7575-8c2e-4fc4-a9e8-a73939b487f4",
   "metadata": {
    "tags": []
   },
   "outputs": [],
   "source": [
    "#Import Train Test Split\n",
    "from sklearn.model_selection import train_test_split "
   ]
  },
  {
   "cell_type": "code",
   "execution_count": 9,
   "id": "9b6616c9-3b96-43c3-8dd4-2eb9e857b972",
   "metadata": {
    "tags": []
   },
   "outputs": [
    {
     "name": "stdout",
     "output_type": "stream",
     "text": [
      "(90, 1) (10, 1) <class 'numpy.ndarray'>\n"
     ]
    }
   ],
   "source": [
    "#Split the data into train and test parts\n",
    "X_train,X_test,y_train,y_test = train_test_split(X,y,test_size=.1,random_state=42)\n",
    "\n",
    "print(X_train.shape,X_test.shape,type(X_train))"
   ]
  },
  {
   "cell_type": "code",
   "execution_count": 10,
   "id": "f2bf8e09-2fe8-4cad-987b-a5ce3c6e3921",
   "metadata": {
    "tags": []
   },
   "outputs": [],
   "source": [
    "#Import Linear Regression\n",
    "from sklearn.linear_model import LinearRegression "
   ]
  },
  {
   "cell_type": "code",
   "execution_count": 11,
   "id": "9f703a28-1853-4add-8266-7887566607fe",
   "metadata": {
    "tags": []
   },
   "outputs": [],
   "source": [
    "#Instantiate an object from the class\n",
    "linreg = LinearRegression()\n",
    "\n",
    "#Use the training data to train a model\n",
    "linreg.fit(X_train,y_train)\n",
    "\n",
    "#Predict y_train from X_train\n",
    "y_train_pred = linreg.predict(X_train)"
   ]
  },
  {
   "cell_type": "code",
   "execution_count": 12,
   "id": "a1eeee6a-bfa2-4847-9444-e6a198623be8",
   "metadata": {
    "tags": []
   },
   "outputs": [
    {
     "name": "stdout",
     "output_type": "stream",
     "text": [
      "Predicted values for the test data are:\n",
      "[[993.42781029]\n",
      " [994.64490778]\n",
      " [992.84240328]\n",
      " [993.47281907]\n",
      " [993.480799  ]\n",
      " [993.44976778]\n",
      " [993.9039751 ]\n",
      " [994.19977585]\n",
      " [993.2232119 ]\n",
      " [993.72394588]]\n"
     ]
    }
   ],
   "source": [
    "#Predict on the retained test values\n",
    "y_pred = linreg.predict(X_test)\n",
    "\n",
    "print(f\"Predicted values for the test data are:\\n{y_pred}\")"
   ]
  },
  {
   "cell_type": "code",
   "execution_count": 13,
   "id": "df50233e-2138-49a7-b373-ac7003aef33a",
   "metadata": {
    "tags": []
   },
   "outputs": [],
   "source": [
    "#To measure the metrics of our models\n",
    "from sklearn.metrics import mean_absolute_error,mean_squared_error, r2_score"
   ]
  },
  {
   "cell_type": "code",
   "execution_count": 14,
   "id": "d00ee699-adeb-42e7-85b3-4795be19bb44",
   "metadata": {
    "tags": []
   },
   "outputs": [
    {
     "name": "stdout",
     "output_type": "stream",
     "text": [
      "Root Means Sqaure Error of our model is: 0.24266269382613853\n"
     ]
    }
   ],
   "source": [
    "#RMSE\n",
    "print(f\"Root Means Sqaure Error of our model is: {np.sqrt(mean_squared_error(y_train_pred,y_train))}\")"
   ]
  },
  {
   "cell_type": "code",
   "execution_count": 15,
   "id": "fffcf02c-9769-4037-b9bf-3bea3aca065c",
   "metadata": {
    "tags": []
   },
   "outputs": [
    {
     "name": "stdout",
     "output_type": "stream",
     "text": [
      "Root Mean Square Error on test data: 0.10495960540153917\n"
     ]
    }
   ],
   "source": [
    "#RMSE for Test\n",
    "print(f\"Root Mean Square Error on test data: {np.sqrt(mean_squared_error(y_pred,y_test))}\")"
   ]
  },
  {
   "cell_type": "code",
   "execution_count": 19,
   "id": "c3db08db-21a9-40ca-91af-f214e83d4a4d",
   "metadata": {
    "tags": []
   },
   "outputs": [
    {
     "name": "stdout",
     "output_type": "stream",
     "text": [
      "Shape of newData:(100, 1)\n",
      "\n",
      "newData:\n",
      "[[2.96830974]\n",
      " [8.66808653]\n",
      " [7.86067143]\n",
      " [6.38358013]\n",
      " [1.51273763]\n",
      " [1.79210482]\n",
      " [5.59387403]\n",
      " [4.86347738]\n",
      " [7.7769161 ]\n",
      " [1.73949654]]\n"
     ]
    }
   ],
   "source": [
    "#Synthetically creating new data\n",
    "newData = np.random.uniform(low=1.0, high=10.0, size=(100,1))\n",
    "\n",
    "#Print to check for validity\n",
    "print(f\"Shape of newData:{newData.shape}\")\n",
    "print(f\"\\nnewData:\\n{newData[:10]}\")"
   ]
  },
  {
   "cell_type": "code",
   "execution_count": 17,
   "id": "70c14720-fd76-4ce1-9bf5-698ba47da448",
   "metadata": {
    "tags": []
   },
   "outputs": [
    {
     "name": "stdout",
     "output_type": "stream",
     "text": [
      "Slope: [[-0.22904268]] and Intercept: [995.08430402]\n"
     ]
    }
   ],
   "source": [
    "#Coefficients\n",
    "coefficients = linreg.coef_\n",
    "intercept = linreg.intercept_\n",
    "\n",
    "print(f\"Slope: {coefficients} and Intercept: {intercept}\") "
   ]
  },
  {
   "cell_type": "code",
   "execution_count": 18,
   "id": "764facec-1d66-41a1-b67d-942b0764cb85",
   "metadata": {
    "tags": []
   },
   "outputs": [
    {
     "data": {
      "image/png": "[encoded data removed]",
      "text/plain": [
       "<Figure size 640x480 with 1 Axes>"
      ]
     },
     "metadata": {},
     "output_type": "display_data"
    }
   ],
   "source": [
    "#Line of regression of newData superimposed on the original data\n",
    "plt.scatter(X,y,s=5)\n",
    "plt.plot(newData,linreg.predict(newData),c='r')\n",
    "plt.xlabel('Competitors Price')\n",
    "plt.ylabel('Demand')\n",
    "plt.title('Competitors Price vs. Demand')\n",
    "plt.show()"
   ]
  },
  {
   "cell_type": "markdown",
   "id": "5dd697a1-50bb-42ae-b6d0-4897f471ed54",
   "metadata": {},
   "source": [
    "Question 5:\n",
    "\n",
    "a) I found that my model did generalize pretty well on the test data. I found an RMSE of 0.243 for the model and 0.105 on the test data, which could be better, but it isn't bad. Looking at my scatter plot, you can see the line of best fit covers the majority of the middle areas, from an x value of 2-8, but the extremes are not generalized well.\n",
    "\n",
    "b) Looking at the line of best fit, I do not think the Linear Regression model will give the optimal strategic pricing. The shape of the data seems to be polynomial, and decreases exponentially as the competitors price increases. I believe a polynomial regression will create the line of best fit, and a linear regression is okay, but not optimal. You would probably be okay with a linear regression, but would prefer to have a polynomial regression to find the best strategic pricing strategy."
   ]
  },
  {
   "cell_type": "code",
   "execution_count": null,
   "id": "3cc45c58-18d4-49b1-8336-fced4d516239",
   "metadata": {},
   "outputs": [],
   "source": []
  }
 ],
 "metadata": {
  "kernelspec": {
   "display_name": "Python 3",
   "language": "python",
   "name": "python3"
  },
  "language_info": {
   "codemirror_mode": {
    "name": "ipython",
    "version": 3
   },
   "file_extension": ".py",
   "mimetype": "text/x-python",
   "name": "python",
   "nbconvert_exporter": "python",
   "pygments_lexer": "ipython3",
   "version": "3.8.8"
  }
 },
 "nbformat": 4,
 "nbformat_minor": 5
}
