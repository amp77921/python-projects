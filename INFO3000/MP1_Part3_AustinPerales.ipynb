{
 "cells": [
  {
   "cell_type": "markdown",
   "id": "1eb54981-cc9e-49d6-94e0-0fa8ecb0c353",
   "metadata": {},
   "source": [
    "MP1 Part 3 - Austin Perales"
   ]
  },
  {
   "cell_type": "code",
   "execution_count": 1,
   "id": "87994e78-4f2d-4985-8d72-a1de43713f9d",
   "metadata": {
    "tags": []
   },
   "outputs": [],
   "source": [
    "Synthetic_responses = [\n",
    "\"I love the sleek design of the car.\",\n",
    "\"The car has excellent fuel efficiency.\",\n",
    "\"The safety features in the car are top-notch.\",\n",
    "\"The car's performance on the road is outstanding.\",\n",
    "\"The interior of the car is spacious and comfortable.\",\n",
    "\"I'm impressed with the advanced technology features in the car.\",\n",
    "\"The car offers great value for the price.\",\n",
    "\"The handling and maneuverability of the car are superb.\",\n",
    "\"The car's infotainment system is user-friendly and intuitive.\",\n",
    "\"I appreciate the ample storage space in the car.\",\n",
    "\"The car's acceleration is impressive.\",\n",
    "\"The sound system in the car provides excellent audio quality.\",\n",
    "\"The car's exterior design is eye-catching.\",\n",
    "\"I find the car to be reliable and dependable.\",\n",
    "\"The car offers a smooth and comfortable ride.\",\n",
    "\"The car's braking system is efficient and responsive.\",\n",
    "\"The car's suspension provides a comfortable driving experience.\",\n",
    "\"I like the variety of color options available for the car.\",\n",
    "\"The car's maintenance costs are reasonable.\",\n",
    "\"The car's warranty coverage is comprehensive.\",\n",
    "\"The car's headlights offer excellent visibility at night.\",\n",
    "\"The car's seats are ergonomic and supportive.\",\n",
    "\"The car's handling in different weather conditions is impressive.\",\n",
    "\"The car's fuel economy exceeds my expectations.\",\n",
    "\"The car's safety ratings are reassuring.\",\n",
    "\"The car's technology integration with smartphones is seamless.\",\n",
    "\"I appreciate the car's spacious trunk capacity.\",\n",
    "\"The car's design reflects a modern and stylish look.\",\n",
    "\"The car's navigation system is accurate and reliable.\",\n",
    "\"The car's interior materials are of high quality.\",\n",
    "\"The car's climate control system provides optimal comfort.\",\n",
    "\"The car's engine power is impressive.\",\n",
    "\"I enjoy the panoramic sunroof in the car.\",\n",
    "\"The car's audio system offers immersive sound quality.\",\n",
    "\"The car's exterior color options are appealing.\",\n",
    "\"The car's transmission provides smooth gear shifts.\",\n",
    "\"The car's fuel efficiency allows for long drives without frequent refueling.\",\n",
    "\"The car's resale value is competitive.\",\n",
    "\"The car's seat comfort makes long trips enjoyable.\",\n",
    "\"The car's entertainment options cater to all passengers.\",\n",
    "\"The car's build quality feels sturdy and durable.\",\n",
    "\"The car's technology features enhance the driving experience.\",\n",
    "\"The car's suspension absorbs road bumps effectively.\",\n",
    "\"The car's interior lighting creates a pleasant ambiance.\",\n",
    "\"The car's handling in tight spaces is effortless.\",\n",
    "\"I appreciate the car's safety assist features, such as blind-spot monitoring and lane-keeping assist.\",\n",
    "\"The car's fuel tank capacity allows for extended driving range.\",\n",
    "\"The car's acceleration from 0 to 60 mph is impressive.\",\n",
    "\"The car's seating configuration offers flexibility for passengers and cargo.\",\n",
    "\"The car's exterior design stands out from other vehicles on the road.\",\n",
    "\"The car's engine noise is minimal during acceleration.\",\n",
    "\"The car's parking assist system makes parking hassle-free.\",\n",
    "\"The car's dashboard layout is intuitive and easy to navigate.\",\n",
    "\"The car's high-quality materials give it a luxurious feel.\",\n",
    "\"The car's safety features provide peace of mind.\",\n",
    "\"The car's suspension system offers a smooth and comfortable ride.\",\n",
    "\"I appreciate the car's fuel-saving start-stop feature.\",\n",
    "\"The car's responsive steering enhances the driving experience.\",\n",
    "\"The car's smartphone integration allows for seamless connectivity.\",\n",
    "\"The car's seating configuration offers no flexibility for passengers and cargo.\",\n",
    "\"The car's exterior design is old fashioned and boring.\",\n",
    "\"The car's engine noise is horrible during acceleration.\",\n",
    "\"The car's parking assist system is complicated\",\n",
    "\"The car's dashboard layout is not intuitive and difficult to navigate.\",\n",
    "\"The car's high-quality materials make it very expensive.\",\n",
    "\"The car's safety features creates many doubts.\",\n",
    "\"The car's suspension system offers is not smooth.\",\n",
    "\"I appreciate the car's fuel-saving start-stop feature but it is irritating.\",\n",
    "\"The car's steering is not responsive.\",\n",
    "\"The car's smartphone integration works erratically.\"\n",
    "]"
   ]
  },
  {
   "cell_type": "code",
   "execution_count": 2,
   "id": "d1422bc4-14ff-404a-baae-5a6d614e24cd",
   "metadata": {
    "tags": []
   },
   "outputs": [],
   "source": [
    "resp = [\"The car is horrible\",'The car smartphone integration works poorly',\"The car is excellent\",\"the car is ordinary\"]"
   ]
  },
  {
   "cell_type": "code",
   "execution_count": 3,
   "id": "a696fef8-d34f-4d2f-8c9f-287c46da8adb",
   "metadata": {
    "tags": []
   },
   "outputs": [],
   "source": [
    "import pandas as pd\n",
    "import nltk\n",
    "from nltk.tokenize import sent_tokenize, word_tokenize\n",
    "from nltk.corpus import stopwords\n",
    "from nltk.sentiment import SentimentIntensityAnalyzer\n",
    "from sklearn.model_selection import train_test_split\n",
    "from sklearn.feature_extraction.text import CountVectorizer, TfidfVectorizer\n",
    "from imblearn.over_sampling import SMOTE\n",
    "from sklearn.naive_bayes import GaussianNB\n",
    "from sklearn.metrics import accuracy_score, confusion_matrix"
   ]
  },
  {
   "cell_type": "code",
   "execution_count": 4,
   "id": "e3311599-8700-4486-9c66-fdf300f8b0fe",
   "metadata": {
    "tags": []
   },
   "outputs": [
    {
     "name": "stdout",
     "output_type": "stream",
     "text": [
      "{'neg': 0.0, 'neu': 0.588, 'pos': 0.412, 'compound': 0.6369}\n",
      "{'neg': 0.0, 'neu': 0.392, 'pos': 0.608, 'compound': 0.7351}\n",
      "{'neg': 0.0, 'neu': 0.714, 'pos': 0.286, 'compound': 0.4215}\n",
      "{'neg': 0.0, 'neu': 0.636, 'pos': 0.364, 'compound': 0.6124}\n",
      "{'neg': 0.0, 'neu': 0.708, 'pos': 0.292, 'compound': 0.5106}\n",
      "{'neg': 0.0, 'neu': 0.611, 'pos': 0.389, 'compound': 0.6249}\n",
      "{'neg': 0.0, 'neu': 0.48, 'pos': 0.52, 'compound': 0.7579}\n",
      "{'neg': 0.0, 'neu': 0.661, 'pos': 0.339, 'compound': 0.6249}\n",
      "{'neg': 0.0, 'neu': 1.0, 'pos': 0.0, 'compound': 0.0}\n",
      "{'neg': 0.0, 'neu': 0.722, 'pos': 0.278, 'compound': 0.4019}\n",
      "{'neg': 0.0, 'neu': 0.548, 'pos': 0.452, 'compound': 0.5106}\n",
      "{'neg': 0.0, 'neu': 0.709, 'pos': 0.291, 'compound': 0.5719}\n",
      "{'neg': 0.0, 'neu': 1.0, 'pos': 0.0, 'compound': 0.0}\n",
      "{'neg': 0.0, 'neu': 1.0, 'pos': 0.0, 'compound': 0.0}\n",
      "{'neg': 0.0, 'neu': 0.645, 'pos': 0.355, 'compound': 0.5106}\n",
      "{'neg': 0.0, 'neu': 0.531, 'pos': 0.469, 'compound': 0.6486}\n",
      "{'neg': 0.0, 'neu': 0.645, 'pos': 0.355, 'compound': 0.5106}\n",
      "{'neg': 0.0, 'neu': 0.783, 'pos': 0.217, 'compound': 0.3612}\n",
      "{'neg': 0.0, 'neu': 1.0, 'pos': 0.0, 'compound': 0.0}\n",
      "{'neg': 0.0, 'neu': 0.714, 'pos': 0.286, 'compound': 0.25}\n",
      "{'neg': 0.0, 'neu': 0.654, 'pos': 0.346, 'compound': 0.5719}\n",
      "{'neg': 0.0, 'neu': 0.732, 'pos': 0.268, 'compound': 0.296}\n",
      "{'neg': 0.0, 'neu': 0.708, 'pos': 0.292, 'compound': 0.5106}\n",
      "{'neg': 0.0, 'neu': 1.0, 'pos': 0.0, 'compound': 0.0}\n",
      "{'neg': 0.0, 'neu': 0.421, 'pos': 0.579, 'compound': 0.6705}\n",
      "{'neg': 0.0, 'neu': 1.0, 'pos': 0.0, 'compound': 0.0}\n",
      "{'neg': 0.0, 'neu': 0.649, 'pos': 0.351, 'compound': 0.4019}\n",
      "{'neg': 0.0, 'neu': 1.0, 'pos': 0.0, 'compound': 0.0}\n",
      "{'neg': 0.0, 'neu': 1.0, 'pos': 0.0, 'compound': 0.0}\n",
      "{'neg': 0.0, 'neu': 1.0, 'pos': 0.0, 'compound': 0.0}\n",
      "{'neg': 0.0, 'neu': 0.545, 'pos': 0.455, 'compound': 0.6124}\n",
      "{'neg': 0.0, 'neu': 0.602, 'pos': 0.398, 'compound': 0.5106}\n",
      "{'neg': 0.0, 'neu': 0.652, 'pos': 0.348, 'compound': 0.4939}\n",
      "{'neg': 0.0, 'neu': 1.0, 'pos': 0.0, 'compound': 0.0}\n",
      "{'neg': 0.0, 'neu': 1.0, 'pos': 0.0, 'compound': 0.0}\n",
      "{'neg': 0.0, 'neu': 1.0, 'pos': 0.0, 'compound': 0.0}\n",
      "{'neg': 0.0, 'neu': 0.8, 'pos': 0.2, 'compound': 0.3612}\n",
      "{'neg': 0.0, 'neu': 0.494, 'pos': 0.506, 'compound': 0.4767}\n",
      "{'neg': 0.0, 'neu': 0.526, 'pos': 0.474, 'compound': 0.6597}\n",
      "{'neg': 0.0, 'neu': 0.714, 'pos': 0.286, 'compound': 0.4215}\n",
      "{'neg': 0.0, 'neu': 1.0, 'pos': 0.0, 'compound': 0.0}\n",
      "{'neg': 0.0, 'neu': 1.0, 'pos': 0.0, 'compound': 0.0}\n",
      "{'neg': 0.0, 'neu': 0.674, 'pos': 0.326, 'compound': 0.4404}\n",
      "{'neg': 0.0, 'neu': 0.481, 'pos': 0.519, 'compound': 0.6597}\n",
      "{'neg': 0.0, 'neu': 1.0, 'pos': 0.0, 'compound': 0.0}\n",
      "{'neg': 0.0, 'neu': 0.667, 'pos': 0.333, 'compound': 0.6705}\n",
      "{'neg': 0.0, 'neu': 1.0, 'pos': 0.0, 'compound': 0.0}\n",
      "{'neg': 0.0, 'neu': 0.708, 'pos': 0.292, 'compound': 0.5106}\n",
      "{'neg': 0.0, 'neu': 0.789, 'pos': 0.211, 'compound': 0.34}\n",
      "{'neg': 0.0, 'neu': 1.0, 'pos': 0.0, 'compound': 0.0}\n",
      "{'neg': 0.0, 'neu': 1.0, 'pos': 0.0, 'compound': 0.0}\n",
      "{'neg': 0.0, 'neu': 1.0, 'pos': 0.0, 'compound': 0.0}\n",
      "{'neg': 0.0, 'neu': 0.756, 'pos': 0.244, 'compound': 0.4404}\n",
      "{'neg': 0.0, 'neu': 1.0, 'pos': 0.0, 'compound': 0.0}\n",
      "{'neg': 0.0, 'neu': 0.488, 'pos': 0.512, 'compound': 0.743}\n",
      "{'neg': 0.0, 'neu': 0.708, 'pos': 0.292, 'compound': 0.5106}\n",
      "{'neg': 0.0, 'neu': 0.649, 'pos': 0.351, 'compound': 0.4019}\n",
      "{'neg': 0.0, 'neu': 0.737, 'pos': 0.263, 'compound': 0.3612}\n",
      "{'neg': 0.0, 'neu': 1.0, 'pos': 0.0, 'compound': 0.0}\n",
      "{'neg': 0.162, 'neu': 0.662, 'pos': 0.176, 'compound': 0.0516}\n",
      "{'neg': 0.223, 'neu': 0.777, 'pos': 0.0, 'compound': -0.3182}\n",
      "{'neg': 0.333, 'neu': 0.667, 'pos': 0.0, 'compound': -0.5423}\n",
      "{'neg': 0.0, 'neu': 1.0, 'pos': 0.0, 'compound': 0.0}\n",
      "{'neg': 0.0, 'neu': 0.826, 'pos': 0.174, 'compound': 0.2755}\n",
      "{'neg': 0.0, 'neu': 1.0, 'pos': 0.0, 'compound': 0.0}\n",
      "{'neg': 0.198, 'neu': 0.36, 'pos': 0.441, 'compound': 0.4019}\n",
      "{'neg': 0.0, 'neu': 1.0, 'pos': 0.0, 'compound': 0.0}\n",
      "{'neg': 0.289, 'neu': 0.578, 'pos': 0.134, 'compound': -0.4854}\n",
      "{'neg': 0.297, 'neu': 0.703, 'pos': 0.0, 'compound': -0.2755}\n",
      "{'neg': 0.0, 'neu': 1.0, 'pos': 0.0, 'compound': 0.0}\n"
     ]
    }
   ],
   "source": [
    "#(1) Calculate sentiment scores for each survey response\n",
    "sid = SentimentIntensityAnalyzer()\n",
    "\n",
    "score = [] # Empty list to store sentiment values\n",
    "\n",
    "# Compute positive, neutral, negative and compund score\n",
    "for r in Synthetic_responses:\n",
    "        score.append(sid.polarity_scores(r))\n",
    "        print(sid.polarity_scores(r))"
   ]
  },
  {
   "cell_type": "code",
   "execution_count": 5,
   "id": "fe9d0ed2-48fa-4f85-8d21-8f86aad77d2a",
   "metadata": {
    "tags": []
   },
   "outputs": [],
   "source": [
    "#(2) Create a Pandas DataFrame with the sentiment scores\n",
    "df = pd.DataFrame(score)\n",
    "df['Response'] = Synthetic_responses\n",
    "df = df[['Response', 'pos', 'neg', 'neu', 'compound']]\n",
    "df.columns = ['Response', 'Positive', 'Negative', 'Neutral', 'Compound']"
   ]
  },
  {
   "cell_type": "code",
   "execution_count": 6,
   "id": "d48082cd-4cee-4b62-8b19-46e11d790c96",
   "metadata": {
    "tags": []
   },
   "outputs": [],
   "source": [
    "#(3) Stop words\n",
    "stop_words = set(stopwords.words('english'))\n",
    "\n",
    "# Preprocess text\n",
    "def preprocess_text(text):\n",
    "    text = text.lower()\n",
    "    text = ' '.join([word for word in text.split() if word not in stop_words])\n",
    "    return text\n",
    "\n",
    "df['Response'] = df['Response'].apply(preprocess_text)"
   ]
  },
  {
   "cell_type": "code",
   "execution_count": 7,
   "id": "ccb8931c-fbaf-4646-ac31-bf3a343c8d4e",
   "metadata": {
    "tags": []
   },
   "outputs": [],
   "source": [
    "#(4) Sentiment column\n",
    "df['Sentiment'] = pd.cut(df['Compound'], bins=[-float('inf'), 0.25, 0.5, float('inf')], labels=['negative', 'neutral', 'positive'])"
   ]
  },
  {
   "cell_type": "code",
   "execution_count": 8,
   "id": "2dc96ac2-cd18-4f8b-abf9-5d2648d8682f",
   "metadata": {
    "tags": []
   },
   "outputs": [
    {
     "name": "stdout",
     "output_type": "stream",
     "text": [
      "                                             Response  Positive  Negative  \\\n",
      "0                              love sleek design car.     0.412     0.000   \n",
      "1                      car excellent fuel efficiency.     0.608     0.000   \n",
      "2                      safety features car top-notch.     0.286     0.000   \n",
      "3                 car's performance road outstanding.     0.364     0.000   \n",
      "4                  interior car spacious comfortable.     0.292     0.000   \n",
      "..                                                ...       ...       ...   \n",
      "65         car's safety features creates many doubts.     0.441     0.198   \n",
      "66             car's suspension system offers smooth.     0.000     0.000   \n",
      "67  appreciate car's fuel-saving start-stop featur...     0.134     0.289   \n",
      "68                         car's steering responsive.     0.000     0.297   \n",
      "69    car's smartphone integration works erratically.     0.000     0.000   \n",
      "\n",
      "    Neutral  Compound Sentiment  \n",
      "0     0.588    0.6369  positive  \n",
      "1     0.392    0.7351  positive  \n",
      "2     0.714    0.4215   neutral  \n",
      "3     0.636    0.6124  positive  \n",
      "4     0.708    0.5106  positive  \n",
      "..      ...       ...       ...  \n",
      "65    0.360    0.4019   neutral  \n",
      "66    1.000    0.0000  negative  \n",
      "67    0.578   -0.4854  negative  \n",
      "68    0.703   -0.2755  negative  \n",
      "69    1.000    0.0000  negative  \n",
      "\n",
      "[70 rows x 6 columns]\n"
     ]
    }
   ],
   "source": [
    "#(5) Display DataFrame\n",
    "print(df)"
   ]
  },
  {
   "cell_type": "code",
   "execution_count": 9,
   "id": "87e227bc-00e7-40f8-86df-aae108c7c80a",
   "metadata": {
    "tags": []
   },
   "outputs": [],
   "source": [
    "#(6) Separate Sentiment column\n",
    "y = df['Sentiment']\n",
    "y1 = df['Sentiment']"
   ]
  },
  {
   "cell_type": "code",
   "execution_count": 10,
   "id": "5d210f4f-6708-4ed6-82fe-400314fd6644",
   "metadata": {
    "tags": []
   },
   "outputs": [],
   "source": [
    "# Count Vectorizor\n",
    "#(12-a) Convert Response column to numeric encoding\n",
    "cv = CountVectorizer()\n",
    "X = cv.fit_transform(df['Response'])"
   ]
  },
  {
   "cell_type": "code",
   "execution_count": 11,
   "id": "d6079545-e279-42d4-85f0-460192e701d8",
   "metadata": {
    "tags": []
   },
   "outputs": [],
   "source": [
    "#(12-b) toArray\n",
    "X = X.toarray()"
   ]
  },
  {
   "cell_type": "code",
   "execution_count": 12,
   "id": "bb30b1d4-31a5-40c6-9d98-b1d985becea4",
   "metadata": {
    "tags": []
   },
   "outputs": [],
   "source": [
    "#(12-c) train test split\n",
    "X_train, X_test, y_train, y_test = train_test_split(X, y, test_size=0.2, random_state=42)"
   ]
  },
  {
   "cell_type": "code",
   "execution_count": 13,
   "id": "7aafbcd1-3f40-4739-8617-aa8bfee627d6",
   "metadata": {
    "tags": []
   },
   "outputs": [],
   "source": [
    "#(12-d) SMOTE and fit resample\n",
    "smote = SMOTE(random_state=42)\n",
    "X_train_balanced, y_train_balanced = smote.fit_resample(X_train, y_train)"
   ]
  },
  {
   "cell_type": "code",
   "execution_count": 14,
   "id": "5b9f8366-505e-4aab-8af2-a38a0b773d03",
   "metadata": {
    "tags": []
   },
   "outputs": [
    {
     "data": {
      "text/html": [
       "<style>#sk-container-id-1 {color: black;background-color: white;}#sk-container-id-1 pre{padding: 0;}#sk-container-id-1 div.sk-toggleable {background-color: white;}#sk-container-id-1 label.sk-toggleable__label {cursor: pointer;display: block;width: 100%;margin-bottom: 0;padding: 0.3em;box-sizing: border-box;text-align: center;}#sk-container-id-1 label.sk-toggleable__label-arrow:before {content: \"▸\";float: left;margin-right: 0.25em;color: #696969;}#sk-container-id-1 label.sk-toggleable__label-arrow:hover:before {color: black;}#sk-container-id-1 div.sk-estimator:hover label.sk-toggleable__label-arrow:before {color: black;}#sk-container-id-1 div.sk-toggleable__content {max-height: 0;max-width: 0;overflow: hidden;text-align: left;background-color: #f0f8ff;}#sk-container-id-1 div.sk-toggleable__content pre {margin: 0.2em;color: black;border-radius: 0.25em;background-color: #f0f8ff;}#sk-container-id-1 input.sk-toggleable__control:checked~div.sk-toggleable__content {max-height: 200px;max-width: 100%;overflow: auto;}#sk-container-id-1 input.sk-toggleable__control:checked~label.sk-toggleable__label-arrow:before {content: \"▾\";}#sk-container-id-1 div.sk-estimator input.sk-toggleable__control:checked~label.sk-toggleable__label {background-color: #d4ebff;}#sk-container-id-1 div.sk-label input.sk-toggleable__control:checked~label.sk-toggleable__label {background-color: #d4ebff;}#sk-container-id-1 input.sk-hidden--visually {border: 0;clip: rect(1px 1px 1px 1px);clip: rect(1px, 1px, 1px, 1px);height: 1px;margin: -1px;overflow: hidden;padding: 0;position: absolute;width: 1px;}#sk-container-id-1 div.sk-estimator {font-family: monospace;background-color: #f0f8ff;border: 1px dotted black;border-radius: 0.25em;box-sizing: border-box;margin-bottom: 0.5em;}#sk-container-id-1 div.sk-estimator:hover {background-color: #d4ebff;}#sk-container-id-1 div.sk-parallel-item::after {content: \"\";width: 100%;border-bottom: 1px solid gray;flex-grow: 1;}#sk-container-id-1 div.sk-label:hover label.sk-toggleable__label {background-color: #d4ebff;}#sk-container-id-1 div.sk-serial::before {content: \"\";position: absolute;border-left: 1px solid gray;box-sizing: border-box;top: 0;bottom: 0;left: 50%;z-index: 0;}#sk-container-id-1 div.sk-serial {display: flex;flex-direction: column;align-items: center;background-color: white;padding-right: 0.2em;padding-left: 0.2em;position: relative;}#sk-container-id-1 div.sk-item {position: relative;z-index: 1;}#sk-container-id-1 div.sk-parallel {display: flex;align-items: stretch;justify-content: center;background-color: white;position: relative;}#sk-container-id-1 div.sk-item::before, #sk-container-id-1 div.sk-parallel-item::before {content: \"\";position: absolute;border-left: 1px solid gray;box-sizing: border-box;top: 0;bottom: 0;left: 50%;z-index: -1;}#sk-container-id-1 div.sk-parallel-item {display: flex;flex-direction: column;z-index: 1;position: relative;background-color: white;}#sk-container-id-1 div.sk-parallel-item:first-child::after {align-self: flex-end;width: 50%;}#sk-container-id-1 div.sk-parallel-item:last-child::after {align-self: flex-start;width: 50%;}#sk-container-id-1 div.sk-parallel-item:only-child::after {width: 0;}#sk-container-id-1 div.sk-dashed-wrapped {border: 1px dashed gray;margin: 0 0.4em 0.5em 0.4em;box-sizing: border-box;padding-bottom: 0.4em;background-color: white;}#sk-container-id-1 div.sk-label label {font-family: monospace;font-weight: bold;display: inline-block;line-height: 1.2em;}#sk-container-id-1 div.sk-label-container {text-align: center;}#sk-container-id-1 div.sk-container {/* jupyter's `normalize.less` sets `[hidden] { display: none; }` but bootstrap.min.css set `[hidden] { display: none !important; }` so we also need the `!important` here to be able to override the default hidden behavior on the sphinx rendered scikit-learn.org. See: https://github.com/scikit-learn/scikit-learn/issues/21755 */display: inline-block !important;position: relative;}#sk-container-id-1 div.sk-text-repr-fallback {display: none;}</style><div id=\"sk-container-id-1\" class=\"sk-top-container\"><div class=\"sk-text-repr-fallback\"><pre>GaussianNB()</pre><b>In a Jupyter environment, please rerun this cell to show the HTML representation or trust the notebook. <br />On GitHub, the HTML representation is unable to render, please try loading this page with nbviewer.org.</b></div><div class=\"sk-container\" hidden><div class=\"sk-item\"><div class=\"sk-estimator sk-toggleable\"><input class=\"sk-toggleable__control sk-hidden--visually\" id=\"sk-estimator-id-1\" type=\"checkbox\" checked><label for=\"sk-estimator-id-1\" class=\"sk-toggleable__label sk-toggleable__label-arrow\">GaussianNB</label><div class=\"sk-toggleable__content\"><pre>GaussianNB()</pre></div></div></div></div></div>"
      ],
      "text/plain": [
       "GaussianNB()"
      ]
     },
     "execution_count": 14,
     "metadata": {},
     "output_type": "execute_result"
    }
   ],
   "source": [
    "#(12-g) Fitting to GausianNB\n",
    "gnb = GaussianNB()\n",
    "gnb.fit(X_train_balanced, y_train_balanced)"
   ]
  },
  {
   "cell_type": "code",
   "execution_count": 15,
   "id": "a4973af2-2951-4c1a-ab06-f5ea53dbdb91",
   "metadata": {
    "tags": []
   },
   "outputs": [],
   "source": [
    "# Calculate training and test accuracy\n",
    "y_train_pred = gnb.predict(X_train_balanced)\n",
    "train_accuracy = accuracy_score(y_train_balanced, y_train_pred)*100\n",
    "y_test_pred = gnb.predict(X_test)\n",
    "test_accuracy = accuracy_score(y_test, y_test_pred)*100\n",
    "\n",
    "# Calculate confusion matrix\n",
    "confusion_mat = confusion_matrix(y_test, y_test_pred)"
   ]
  },
  {
   "cell_type": "code",
   "execution_count": 16,
   "id": "ae76fbe9-fced-4ffd-8648-4dde725919a2",
   "metadata": {
    "tags": []
   },
   "outputs": [
    {
     "name": "stdout",
     "output_type": "stream",
     "text": [
      "Model Performance using CountVectorizer:\n",
      "Training Accuracy: 84.61538461538461%\n",
      "Test Accuracy: 50.0%\n",
      "Confusion Matrix:\n",
      "[[2 1 2]\n",
      " [0 1 0]\n",
      " [3 1 4]]\n"
     ]
    }
   ],
   "source": [
    "print(\"Model Performance using CountVectorizer:\")\n",
    "print(f\"Training Accuracy: {train_accuracy}%\")\n",
    "print(f\"Test Accuracy: {test_accuracy}%\")\n",
    "print(\"Confusion Matrix:\")\n",
    "print(confusion_mat)"
   ]
  },
  {
   "cell_type": "code",
   "execution_count": 17,
   "id": "7adfd3ba-794f-4022-a38e-fddebbdeb58a",
   "metadata": {
    "tags": []
   },
   "outputs": [],
   "source": [
    "# TF-IDF Vectorizer\n",
    "#(12-a) Convert Response column to numeric encoding\n",
    "tv = TfidfVectorizer()\n",
    "X1 = tv.fit_transform(df['Response'])"
   ]
  },
  {
   "cell_type": "code",
   "execution_count": 18,
   "id": "ac92ac34-9acd-46a9-8e7f-9f95893ff915",
   "metadata": {
    "tags": []
   },
   "outputs": [],
   "source": [
    "#(12-b) toArray\n",
    "X1 = X1.toarray()"
   ]
  },
  {
   "cell_type": "code",
   "execution_count": 19,
   "id": "189f047b-919a-4366-8808-0630046b8e5b",
   "metadata": {
    "tags": []
   },
   "outputs": [],
   "source": [
    "#(12-c) train test split\n",
    "X1_train, X1_test, y1_train, y1_test = train_test_split(X1, y1, test_size=0.2, random_state=42)"
   ]
  },
  {
   "cell_type": "code",
   "execution_count": 20,
   "id": "93937c79-6875-49f3-b6ed-39dba45eca95",
   "metadata": {
    "tags": []
   },
   "outputs": [],
   "source": [
    "#(12-d) SMOTE and fit resample\n",
    "smote = SMOTE(random_state=42)\n",
    "X1_train_balanced, y1_train_balanced = smote.fit_resample(X1_train, y1_train)"
   ]
  },
  {
   "cell_type": "code",
   "execution_count": 21,
   "id": "f7df33b5-0c13-4968-977f-51f13666e687",
   "metadata": {
    "tags": []
   },
   "outputs": [
    {
     "data": {
      "text/html": [
       "<style>#sk-container-id-2 {color: black;background-color: white;}#sk-container-id-2 pre{padding: 0;}#sk-container-id-2 div.sk-toggleable {background-color: white;}#sk-container-id-2 label.sk-toggleable__label {cursor: pointer;display: block;width: 100%;margin-bottom: 0;padding: 0.3em;box-sizing: border-box;text-align: center;}#sk-container-id-2 label.sk-toggleable__label-arrow:before {content: \"▸\";float: left;margin-right: 0.25em;color: #696969;}#sk-container-id-2 label.sk-toggleable__label-arrow:hover:before {color: black;}#sk-container-id-2 div.sk-estimator:hover label.sk-toggleable__label-arrow:before {color: black;}#sk-container-id-2 div.sk-toggleable__content {max-height: 0;max-width: 0;overflow: hidden;text-align: left;background-color: #f0f8ff;}#sk-container-id-2 div.sk-toggleable__content pre {margin: 0.2em;color: black;border-radius: 0.25em;background-color: #f0f8ff;}#sk-container-id-2 input.sk-toggleable__control:checked~div.sk-toggleable__content {max-height: 200px;max-width: 100%;overflow: auto;}#sk-container-id-2 input.sk-toggleable__control:checked~label.sk-toggleable__label-arrow:before {content: \"▾\";}#sk-container-id-2 div.sk-estimator input.sk-toggleable__control:checked~label.sk-toggleable__label {background-color: #d4ebff;}#sk-container-id-2 div.sk-label input.sk-toggleable__control:checked~label.sk-toggleable__label {background-color: #d4ebff;}#sk-container-id-2 input.sk-hidden--visually {border: 0;clip: rect(1px 1px 1px 1px);clip: rect(1px, 1px, 1px, 1px);height: 1px;margin: -1px;overflow: hidden;padding: 0;position: absolute;width: 1px;}#sk-container-id-2 div.sk-estimator {font-family: monospace;background-color: #f0f8ff;border: 1px dotted black;border-radius: 0.25em;box-sizing: border-box;margin-bottom: 0.5em;}#sk-container-id-2 div.sk-estimator:hover {background-color: #d4ebff;}#sk-container-id-2 div.sk-parallel-item::after {content: \"\";width: 100%;border-bottom: 1px solid gray;flex-grow: 1;}#sk-container-id-2 div.sk-label:hover label.sk-toggleable__label {background-color: #d4ebff;}#sk-container-id-2 div.sk-serial::before {content: \"\";position: absolute;border-left: 1px solid gray;box-sizing: border-box;top: 0;bottom: 0;left: 50%;z-index: 0;}#sk-container-id-2 div.sk-serial {display: flex;flex-direction: column;align-items: center;background-color: white;padding-right: 0.2em;padding-left: 0.2em;position: relative;}#sk-container-id-2 div.sk-item {position: relative;z-index: 1;}#sk-container-id-2 div.sk-parallel {display: flex;align-items: stretch;justify-content: center;background-color: white;position: relative;}#sk-container-id-2 div.sk-item::before, #sk-container-id-2 div.sk-parallel-item::before {content: \"\";position: absolute;border-left: 1px solid gray;box-sizing: border-box;top: 0;bottom: 0;left: 50%;z-index: -1;}#sk-container-id-2 div.sk-parallel-item {display: flex;flex-direction: column;z-index: 1;position: relative;background-color: white;}#sk-container-id-2 div.sk-parallel-item:first-child::after {align-self: flex-end;width: 50%;}#sk-container-id-2 div.sk-parallel-item:last-child::after {align-self: flex-start;width: 50%;}#sk-container-id-2 div.sk-parallel-item:only-child::after {width: 0;}#sk-container-id-2 div.sk-dashed-wrapped {border: 1px dashed gray;margin: 0 0.4em 0.5em 0.4em;box-sizing: border-box;padding-bottom: 0.4em;background-color: white;}#sk-container-id-2 div.sk-label label {font-family: monospace;font-weight: bold;display: inline-block;line-height: 1.2em;}#sk-container-id-2 div.sk-label-container {text-align: center;}#sk-container-id-2 div.sk-container {/* jupyter's `normalize.less` sets `[hidden] { display: none; }` but bootstrap.min.css set `[hidden] { display: none !important; }` so we also need the `!important` here to be able to override the default hidden behavior on the sphinx rendered scikit-learn.org. See: https://github.com/scikit-learn/scikit-learn/issues/21755 */display: inline-block !important;position: relative;}#sk-container-id-2 div.sk-text-repr-fallback {display: none;}</style><div id=\"sk-container-id-2\" class=\"sk-top-container\"><div class=\"sk-text-repr-fallback\"><pre>GaussianNB()</pre><b>In a Jupyter environment, please rerun this cell to show the HTML representation or trust the notebook. <br />On GitHub, the HTML representation is unable to render, please try loading this page with nbviewer.org.</b></div><div class=\"sk-container\" hidden><div class=\"sk-item\"><div class=\"sk-estimator sk-toggleable\"><input class=\"sk-toggleable__control sk-hidden--visually\" id=\"sk-estimator-id-2\" type=\"checkbox\" checked><label for=\"sk-estimator-id-2\" class=\"sk-toggleable__label sk-toggleable__label-arrow\">GaussianNB</label><div class=\"sk-toggleable__content\"><pre>GaussianNB()</pre></div></div></div></div></div>"
      ],
      "text/plain": [
       "GaussianNB()"
      ]
     },
     "execution_count": 21,
     "metadata": {},
     "output_type": "execute_result"
    }
   ],
   "source": [
    "#(12-g) Fitting to GausianNB\n",
    "gnb1 = GaussianNB()\n",
    "gnb1.fit(X1_train_balanced, y1_train_balanced)"
   ]
  },
  {
   "cell_type": "code",
   "execution_count": 22,
   "id": "d47d3779-27c4-43d1-97e3-ec1911a913ac",
   "metadata": {
    "tags": []
   },
   "outputs": [],
   "source": [
    "# Calculate training and test accuracy\n",
    "y1_train_pred = gnb1.predict(X1_train_balanced)\n",
    "train_accuracy1 = accuracy_score(y1_train_balanced, y1_train_pred)*100\n",
    "y1_test_pred = gnb1.predict(X1_test)\n",
    "test_accuracy1 = accuracy_score(y1_test, y1_test_pred)*100\n",
    "\n",
    "# Calculate confusion matrix\n",
    "confusion_mat1 = confusion_matrix(y1_test, y1_test_pred)"
   ]
  },
  {
   "cell_type": "code",
   "execution_count": 23,
   "id": "a959b7e9-c214-40e2-a906-1b0d877a4ee8",
   "metadata": {
    "tags": []
   },
   "outputs": [
    {
     "name": "stdout",
     "output_type": "stream",
     "text": [
      "Model Performance using TF-IDF:\n",
      "Training Accuracy: 96.15384615384616%\n",
      "Test Accuracy: 42.857142857142854%\n",
      "Confusion Matrix:\n",
      "[[2 1 2]\n",
      " [0 1 0]\n",
      " [4 1 3]]\n"
     ]
    }
   ],
   "source": [
    "print(\"Model Performance using TF-IDF:\")\n",
    "print(f\"Training Accuracy: {train_accuracy1}%\")\n",
    "print(f\"Test Accuracy: {test_accuracy1}%\")\n",
    "print(\"Confusion Matrix:\")\n",
    "print(confusion_mat1)"
   ]
  },
  {
   "cell_type": "code",
   "execution_count": 24,
   "id": "0fbeef7b-96a3-4244-9cfe-356272a29458",
   "metadata": {
    "tags": []
   },
   "outputs": [],
   "source": [
    "# Function to predict sentiment on new responses\n",
    "def predict_sentiment(new_response):\n",
    "    new_response = preprocess_text(new_response)\n",
    "    new_response_cv = cv.transform([new_response]).toarray()\n",
    "    new_response_tfidf = tv.transform([new_response]).toarray()\n",
    "    prediction_cv = gnb.predict(new_response_cv)\n",
    "    prediction_tfidf = gnb1.predict(new_response_tfidf)\n",
    "    print(\"Predicted Sentiment using CountVectorizer:\", prediction_cv)\n",
    "    print(\"Predicted Sentiment using TF-IDF Vectorizer:\", prediction_tfidf)"
   ]
  },
  {
   "cell_type": "code",
   "execution_count": 25,
   "id": "7c435259-de7c-4f84-a811-34955aa8954b",
   "metadata": {
    "tags": []
   },
   "outputs": [
    {
     "name": "stdout",
     "output_type": "stream",
     "text": [
      "\n",
      "Predicting Sentiment for New Responses:\n",
      "Predicted Sentiment using CountVectorizer: ['negative']\n",
      "Predicted Sentiment using TF-IDF Vectorizer: ['negative']\n",
      "\n",
      "Predicted Sentiment using CountVectorizer: ['negative']\n",
      "Predicted Sentiment using TF-IDF Vectorizer: ['negative']\n",
      "\n",
      "Predicted Sentiment using CountVectorizer: ['positive']\n",
      "Predicted Sentiment using TF-IDF Vectorizer: ['positive']\n",
      "\n",
      "Predicted Sentiment using CountVectorizer: ['positive']\n",
      "Predicted Sentiment using TF-IDF Vectorizer: ['positive']\n",
      "\n"
     ]
    }
   ],
   "source": [
    "# Printing responses\n",
    "print(\"\\nPredicting Sentiment for New Responses:\")\n",
    "for response in resp:\n",
    "    predict_sentiment(response)\n",
    "    print()"
   ]
  },
  {
   "cell_type": "markdown",
   "id": "9bff4410-a148-414c-975e-3fc5b2538e6e",
   "metadata": {},
   "source": [
    "Questions:\n",
    "\n",
    "1) The Count Vectorizor performed better. \n",
    "\n",
    "2) This is because the two models use different techniques to to analyze the data. Count Vectorizor just takes into account the number of time a word appears, while TF-IDF assigns weights to the more common words. In this case with this specific data, it seems as if the Count Vectorizor captured the information more effectively, since it had a higher test accuracy than TF-IDF.\n",
    "\n",
    "3) Some challenges I faced was creating the data frame. I feel comfortable with the actual algorithms that performed, but the preprocessing can be challenging for me to do correctly. Other than that I felt good about this project and it was super cool to do."
   ]
  },
  {
   "cell_type": "code",
   "execution_count": null,
   "id": "c2c6bf14-9439-4c8f-bad3-99f3e6ae47ce",
   "metadata": {},
   "outputs": [],
   "source": []
  }
 ],
 "metadata": {
  "kernelspec": {
   "display_name": "Python 3 (ipykernel)",
   "language": "python",
   "name": "python3"
  },
  "language_info": {
   "codemirror_mode": {
    "name": "ipython",
    "version": 3
   },
   "file_extension": ".py",
   "mimetype": "text/x-python",
   "name": "python",
   "nbconvert_exporter": "python",
   "pygments_lexer": "ipython3",
   "version": "3.10.11"
  }
 },
 "nbformat": 4,
 "nbformat_minor": 5
}
