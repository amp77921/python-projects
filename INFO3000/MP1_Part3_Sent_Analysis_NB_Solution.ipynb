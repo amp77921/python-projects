{
 "cells": [
  {
   "cell_type": "markdown",
   "id": "cf13949d-012e-4a7f-8ac9-a2ba82539258",
   "metadata": {},
   "source": [
    "### Survey Responses to Model building"
   ]
  },
  {
   "cell_type": "markdown",
   "id": "d9277528-6264-4a90-820e-e712f2c6de31",
   "metadata": {
    "tags": []
   },
   "source": [
    "In this complete example, we generate a small bunch of synthetic survey responses for a new car called CarX and assign sentiment labels to them. We performed sentiment analysis using the VADER sentiment analyzer and extract sentiment scores. We then create a DataFrame to store the responses, sentiment labels, and sentiment scores.\n",
    "\n",
    "Next, we apply CounteVectorizer(BOW) and TFIDF vectorizer to numerically encode the features and checke the result in each case. We split the data into training and testing sets, oversample the train data to remove any imbalance and then fit a random Forest Classifier model on the training set. The trained models are used to predict sentiment labels for the test set in each case.\n",
    "\n",
    "Finally, we evaluate the model's performance by calculating the accuracy.\n",
    "\n",
    "Feel free to modify the code according to your specific needs or further explore other machine learning algorithms and techniques for sentiment analysis."
   ]
  },
  {
   "cell_type": "code",
   "execution_count": 1,
   "id": "89fe7106-bf39-4a57-903f-e53fecf1aa98",
   "metadata": {
    "tags": []
   },
   "outputs": [],
   "source": [
    "# Import required modules\n",
    "\n",
    "import numpy as np\n",
    "import pandas as pd\n",
    "\n",
    "import nltk\n",
    "\n",
    "from imblearn.over_sampling import SMOTE # For oversampling\n",
    "\n",
    "from sklearn.feature_extraction.text import CountVectorizer,TfidfVectorizer\n",
    "from sklearn.naive_bayes import GaussianNB,MultinomialNB,BernoulliNB\n",
    "from sklearn.model_selection import train_test_split\n",
    "from collections import Counter\n",
    "from sklearn.metrics import accuracy_score, classification_report,confusion_matrix\n",
    "from sklearn.preprocessing import LabelEncoder\n",
    "from sklearn.utils import resample\n",
    "from sklearn.ensemble import RandomForestClassifier\n",
    "\n",
    "from nltk.corpus import stopwords\n",
    "from nltk.sentiment import SentimentIntensityAnalyzer"
   ]
  },
  {
   "cell_type": "code",
   "execution_count": 2,
   "id": "300bd9ce-9496-410b-ba80-be21088fd15e",
   "metadata": {
    "tags": []
   },
   "outputs": [],
   "source": [
    "# Set stopwords function to English\n",
    "\n",
    "stop_words = set(stopwords.words('english'))"
   ]
  },
  {
   "cell_type": "code",
   "execution_count": 3,
   "id": "56b39a17-9f2b-4191-a3ff-bee815a62914",
   "metadata": {
    "tags": []
   },
   "outputs": [],
   "source": [
    "# Initialize the sentiment analyzer\n",
    "# nltk.download('vader_lexicon')\n",
    "\n",
    "sid = SentimentIntensityAnalyzer()"
   ]
  },
  {
   "cell_type": "code",
   "execution_count": 4,
   "id": "7d6164c0-ab0a-4a85-9fdf-4739a9efa5a4",
   "metadata": {
    "tags": []
   },
   "outputs": [],
   "source": [
    "# Market Research Survey responses about the car\n",
    "\n",
    "synthetic_responses = [\n",
    "    \"I love the sleek design of the car.\",\n",
    "    \"The car has excellent fuel efficiency.\",\n",
    "    \"The safety features in the car are top-notch.\",\n",
    "    \"The car's performance on the road is outstanding.\",\n",
    "    \"The interior of the car is spacious and comfortable.\",\n",
    "    \"I'm impressed with the advanced technology features in the car.\",\n",
    "    \"The car offers great value for the price.\",\n",
    "    \"The handling and maneuverability of the car are superb.\",\n",
    "    \"The car's infotainment system is user-friendly and intuitive.\",\n",
    "    \"I appreciate the ample storage space in the car.\",\n",
    "    \"The car's acceleration is impressive.\",\n",
    "    \"The sound system in the car provides excellent audio quality.\",\n",
    "    \"The car's exterior design is eye-catching.\",\n",
    "    \"I find the car to be reliable and dependable.\",\n",
    "    \"The car offers a smooth and comfortable ride.\",\n",
    "    \"The car's braking system is efficient and responsive.\",\n",
    "    \"The car's suspension provides a comfortable driving experience.\",\n",
    "    \"I like the variety of color options available for the car.\",\n",
    "    \"The car's maintenance costs are reasonable.\",\n",
    "    \"The car's warranty coverage is comprehensive.\",\n",
    "    \"The car's headlights offer excellent visibility at night.\",\n",
    "    \"The car's seats are ergonomic and supportive.\",\n",
    "    \"The car's handling in different weather conditions is impressive.\",\n",
    "    \"The car's fuel economy exceeds my expectations.\",\n",
    "    \"The car's safety ratings are reassuring.\",\n",
    "    \"The car's technology integration with smartphones is seamless.\",\n",
    "    \"I appreciate the car's spacious trunk capacity.\",\n",
    "    \"The car's design reflects a modern and stylish look.\",\n",
    "    \"The car's navigation system is accurate and reliable.\",\n",
    "    \"The car's interior materials are of high quality.\",\n",
    "    \"The car's climate control system provides optimal comfort.\",\n",
    "    \"The car's engine power is impressive.\",\n",
    "    \"I enjoy the panoramic sunroof in the car.\",\n",
    "    \"The car's audio system offers immersive sound quality.\",\n",
    "    \"The car's exterior color options are appealing.\",\n",
    "    \"The car's transmission provides smooth gear shifts.\",\n",
    "    \"The car's fuel efficiency allows for long drives without frequent refueling.\",\n",
    "    \"The car's resale value is competitive.\",\n",
    "    \"The car's seat comfort makes long trips enjoyable.\",\n",
    "    \"The car's entertainment options cater to all passengers.\",\n",
    "    \"The car's build quality feels sturdy and durable.\",\n",
    "    \"The car's technology features enhance the driving experience.\",\n",
    "    \"The car's suspension absorbs road bumps effectively.\",\n",
    "    \"The car's interior lighting creates a pleasant ambiance.\",\n",
    "    \"The car's handling in tight spaces is effortless.\",\n",
    "    \"I appreciate the car's safety assist features, such as blind-spot monitoring and lane-keeping assist.\",\n",
    "    \"The car's fuel tank capacity allows for extended driving range.\",\n",
    "    \"The car's acceleration from 0 to 60 mph is impressive.\",\n",
    "    \"The car's seating configuration offers flexibility for passengers and cargo.\",\n",
    "    \"The car's exterior design stands out from other vehicles on the road.\",\n",
    "    \"The car's engine noise is minimal during acceleration.\",\n",
    "    \"The car's parking assist system makes parking hassle-free.\",\n",
    "    \"The car's dashboard layout is intuitive and easy to navigate.\",\n",
    "    \"The car's high-quality materials give it a luxurious feel.\",\n",
    "    \"The car's safety features provide peace of mind.\",\n",
    "    \"The car's suspension system offers a smooth and comfortable ride.\",\n",
    "    \"I appreciate the car's fuel-saving start-stop feature.\",\n",
    "    \"The car's responsive steering enhances the driving experience.\",\n",
    "    \"The car's smartphone integration allows for seamless connectivity.\",\n",
    "    \"The car's seating configuration offers no flexibility for passengers and cargo.\",\n",
    "    \"The car's exterior design is old fashioned and boring.\",\n",
    "    \"The car's engine noise is horrible during acceleration.\",\n",
    "    \"The car's parking assist system is complicated\",\n",
    "    \"The car's dashboard layout is not intuitive and difficult to navigate.\",\n",
    "    \"The car's high-quality materials make it very expensive.\",\n",
    "    \"The car's safety features creates many doubts.\",\n",
    "    \"The car's suspension system offers is not smooth.\",\n",
    "    \"I appreciate the car's fuel-saving start-stop feature but it is irritating.\",\n",
    "    \"The car's steering is not responsive.\",\n",
    "    \"The car's smartphone integration works erratically.\"\n",
    "]\n"
   ]
  },
  {
   "cell_type": "code",
   "execution_count": 5,
   "id": "fc52c84d-20e7-4fed-85bf-ec80a665b3d2",
   "metadata": {
    "tags": []
   },
   "outputs": [
    {
     "data": {
      "text/plain": [
       "70"
      ]
     },
     "execution_count": 5,
     "metadata": {},
     "output_type": "execute_result"
    }
   ],
   "source": [
    "# Perform sentiment analysis on the responses\n",
    "sentiment_scores = []\n",
    "for response in synthetic_responses:\n",
    "    sentiment_score = sid.polarity_scores(response)\n",
    "    sentiment_scores.append(sentiment_score)\n",
    "    \n",
    "len(sentiment_scores)"
   ]
  },
  {
   "cell_type": "code",
   "execution_count": 6,
   "id": "b21e7cd8-4748-4ea4-9feb-baef935fd068",
   "metadata": {
    "tags": []
   },
   "outputs": [
    {
     "name": "stdout",
     "output_type": "stream",
     "text": [
      "                                             Response  Positive  Negative  \\\n",
      "65     the car's safety features creates many doubts.     0.441     0.198   \n",
      "66         the car's suspension system offers smooth.     0.000     0.000   \n",
      "67  i appreciate car's fuel-saving start-stop feat...     0.134     0.289   \n",
      "68                     the car's steering responsive.     0.000     0.297   \n",
      "69  the car's smartphone integration works erratic...     0.000     0.000   \n",
      "\n",
      "    Neutral  Compound  \n",
      "65    0.360    0.4019  \n",
      "66    1.000    0.0000  \n",
      "67    0.578   -0.4854  \n",
      "68    0.703   -0.2755  \n",
      "69    1.000    0.0000  \n"
     ]
    }
   ],
   "source": [
    "# Create a DataFrame to store the responses and sentiment scores\n",
    "data = pd.DataFrame({'Response': synthetic_responses, \n",
    "                     'Positive': [score['pos'] for score in sentiment_scores],\n",
    "                     'Negative': [score['neg'] for score in sentiment_scores],\n",
    "                     'Neutral': [score['neu'] for score in sentiment_scores],\n",
    "                      'Compound': [score['compound'] for score in sentiment_scores]})\n",
    "\n",
    "# Preprocess the response to reduce to lower case and remove stop words\n",
    "data['Response'] = data['Response'].apply(lambda words: ' '.join(word.lower() for word in words.split() if word not in stop_words))\n",
    "\n",
    "print(data.tail())"
   ]
  },
  {
   "cell_type": "code",
   "execution_count": 7,
   "id": "fc3b9099-f650-4e68-9409-5acc685e262e",
   "metadata": {
    "tags": []
   },
   "outputs": [
    {
     "name": "stdout",
     "output_type": "stream",
     "text": [
      "                                            Response  Positive  Negative  \\\n",
      "0                           i love sleek design car.     0.412       0.0   \n",
      "1                 the car excellent fuel efficiency.     0.608       0.0   \n",
      "2                 the safety features car top-notch.     0.286       0.0   \n",
      "3            the car's performance road outstanding.     0.364       0.0   \n",
      "4             the interior car spacious comfortable.     0.292       0.0   \n",
      "5    i'm impressed advanced technology features car.     0.389       0.0   \n",
      "6                  the car offers great value price.     0.520       0.0   \n",
      "7           the handling maneuverability car superb.     0.339       0.0   \n",
      "8  the car's infotainment system user-friendly in...     0.000       0.0   \n",
      "9              i appreciate ample storage space car.     0.278       0.0   \n",
      "\n",
      "   Neutral  Compound Sentiment  \n",
      "0    0.588    0.6369  positive  \n",
      "1    0.392    0.7351  positive  \n",
      "2    0.714    0.4215   neutral  \n",
      "3    0.636    0.6124  positive  \n",
      "4    0.708    0.5106  positive  \n",
      "5    0.611    0.6249  positive  \n",
      "6    0.480    0.7579  positive  \n",
      "7    0.661    0.6249  positive  \n",
      "8    1.000    0.0000  negative  \n",
      "9    0.722    0.4019   neutral  \n"
     ]
    }
   ],
   "source": [
    "# Create the Sentiment label column by specifying threshold values for positve, neutral and negative\n",
    "\n",
    "df = data.copy() # make a copy of the original dataframe\n",
    "\n",
    "df.loc[df.Compound > 0.5, 'Sentiment'] = \"positive\"\n",
    "df.loc[df.Compound <= 0.5, 'Sentiment'] = \"neutral\"\n",
    "df.loc[df.Compound < 0.25, 'Sentiment'] = \"negative\"\n",
    "print(df.head(10))"
   ]
  },
  {
   "cell_type": "code",
   "execution_count": 8,
   "id": "aa1fd82b-9da6-4909-bd79-0e340e77beaa",
   "metadata": {
    "tags": []
   },
   "outputs": [
    {
     "name": "stdout",
     "output_type": "stream",
     "text": [
      "Counts of each class:\n",
      "negative    30\n",
      "positive    23\n",
      "neutral     17\n",
      "Name: Sentiment, dtype: int64\n"
     ]
    }
   ],
   "source": [
    "# Check if the dataset is balanced\n",
    "\n",
    "print(f\"Counts of each class:\\n{df['Sentiment'].value_counts()}\")"
   ]
  },
  {
   "cell_type": "code",
   "execution_count": 9,
   "id": "78e29520-e22e-4a42-90ef-315c53a9b3b7",
   "metadata": {
    "tags": []
   },
   "outputs": [],
   "source": [
    "# Separate y\n",
    "\n",
    "y = df['Sentiment']"
   ]
  },
  {
   "cell_type": "markdown",
   "id": "1ec5298e-7c3c-4618-8253-48b7a50e0302",
   "metadata": {
    "tags": []
   },
   "source": [
    "#### Count Vectorizer "
   ]
  },
  {
   "cell_type": "code",
   "execution_count": 10,
   "id": "5aa9fc76-df1f-428a-baf8-4755f6293249",
   "metadata": {
    "tags": []
   },
   "outputs": [
    {
     "name": "stdout",
     "output_type": "stream",
     "text": [
      "Original dataset shape Counter({'negative': 25, 'neutral': 16, 'positive': 15})\n",
      "Resampled (SMOTE) dataset shape Counter({'negative': 25, 'positive': 25, 'neutral': 25})\n",
      "\n",
      "Training Accuracy: 88.00%\n",
      "\n",
      "\n",
      "Test Accuracy: 50.00%\n",
      "\n",
      "Confusion Matrix:\n",
      "[[2 0 3]\n",
      " [1 1 1]\n",
      " [2 0 4]]\n",
      "\n"
     ]
    }
   ],
   "source": [
    "# Feature Extraction using CountVectorizer also known as Bag-of-Words method\n",
    "\n",
    "vectorizer = CountVectorizer()\n",
    "vectorizer.fit(df['Response'])\n",
    "X = vectorizer.transform(df['Response'])\n",
    "\n",
    "# Convert to matrix form\n",
    "X = X.toarray()\n",
    "\n",
    "\n",
    "# Split the data into training and testing sets\n",
    "X_train, X_test, y_train, y_test = train_test_split(X,y, test_size=.20, random_state=42)\n",
    "\n",
    "# Oversample using smote\n",
    "print('Original dataset shape %s' % Counter(y_train))\n",
    "\n",
    "sm = SMOTE(random_state=42)\n",
    "X_res, y_res = sm.fit_resample(X_train, y_train)\n",
    "\n",
    "print('Resampled (SMOTE) dataset shape %s' % Counter(y_res))\n",
    "\n",
    "# Train a Logistic Regression model\n",
    "gnb1 = GaussianNB()\n",
    "gnb1.fit(X_res, y_res)\n",
    "\n",
    "# Check training accuracy\n",
    "print(f\"\\nTraining Accuracy: {accuracy_score(y_res,gnb1.predict(X_res))*100:.2f}%\\n\\n\")\n",
    "\n",
    "# Predict sentiment labels for the test set\n",
    "y_pred = gnb1.predict(X_test).reshape(-1,1)\n",
    "\n",
    "# Print the model's performance\n",
    "print(f\"Test Accuracy: {accuracy_score(y_pred,y_test)*100:.2f}%\\n\")\n",
    "print(f\"Confusion Matrix:\\n{confusion_matrix(y_pred,y_test)}\\n\")"
   ]
  },
  {
   "cell_type": "markdown",
   "id": "59f7f999-e006-4173-bf97-1693dc33c6bc",
   "metadata": {
    "tags": []
   },
   "source": [
    "#### TFIDF Vectorizer"
   ]
  },
  {
   "cell_type": "code",
   "execution_count": 11,
   "id": "597000e2-bd51-4a79-b47f-22f90d105901",
   "metadata": {
    "tags": []
   },
   "outputs": [
    {
     "name": "stdout",
     "output_type": "stream",
     "text": [
      "Original dataset shape Counter({'negative': 25, 'neutral': 16, 'positive': 15})\n",
      "Resampled (SMOTE) dataset shape Counter({'negative': 25, 'positive': 25, 'neutral': 25})\n",
      "\n",
      "Training Accuracy: 96.00%\n",
      "\n",
      "\n",
      "Test Accuracy: 42.86%\n",
      "\n",
      "Confusion Matrix:\n",
      "[[2 0 4]\n",
      " [1 1 1]\n",
      " [2 0 3]]\n",
      "\n"
     ]
    }
   ],
   "source": [
    "# Feature Extraction using TFIDFVectorizer \n",
    "\n",
    "tfidf = TfidfVectorizer()\n",
    "\n",
    "y1 = y.copy() # Create a copy of y\n",
    "\n",
    "# Instantiate vectorizer\n",
    "tfidf.fit(df['Response'])\n",
    "\n",
    "# Transform the response column\n",
    "X1 = tfidf.transform(df['Response'])\n",
    "\n",
    "# Convert to matrix form\n",
    "X1 = X1.toarray()\n",
    "\n",
    "# Split the data into training and testing sets\n",
    "X1_train, X1_test, y1_train, y1_test = train_test_split(X1, y1, test_size=.20, random_state=42)\n",
    "\n",
    "# Oversample using smote\n",
    "print('Original dataset shape %s' % Counter(y_train))\n",
    "\n",
    "sm = SMOTE(random_state=42)\n",
    "X1_res, y1_res = sm.fit_resample(X1_train, y1_train)\n",
    "\n",
    "print('Resampled (SMOTE) dataset shape %s' % Counter(y_res))\n",
    "\n",
    "# Instantiate new RFC and build model\n",
    "gnb2 = GaussianNB()\n",
    "\n",
    "# Train model\n",
    "gnb2.fit(X1_res,y1_res)\n",
    "\n",
    "# Check training accuracy\n",
    "print(f\"\\nTraining Accuracy: {accuracy_score(y1_res,gnb2.predict(X1_res))*100:.2f}%\\n\\n\")\n",
    "\n",
    "# Predict on test set and check accuracy\n",
    "pred = gnb2.predict(X1_test)\n",
    "\n",
    "# Print the model's performance\n",
    "print(f\"Test Accuracy: {accuracy_score(pred,y1_test)*100:.2f}%\\n\")\n",
    "print(f\"Confusion Matrix:\\n{confusion_matrix(pred,y1_test)}\\n\")"
   ]
  },
  {
   "cell_type": "markdown",
   "id": "06ddacd8-fb6a-437e-b92f-edd5b756310d",
   "metadata": {
    "tags": []
   },
   "source": [
    "# Build a pipeline from response to sentiment prediction"
   ]
  },
  {
   "cell_type": "code",
   "execution_count": 12,
   "id": "97360d88-0a93-4873-bf3b-67294448b64f",
   "metadata": {
    "tags": []
   },
   "outputs": [],
   "source": [
    "# Function to predict on a response using both vectorizers and the corresponding models\n",
    "\n",
    "def predict_sentiment(response):\n",
    "    \n",
    "    count_vec = vectorizer.transform(response)\n",
    "    count_vec = count_vec.toarray()\n",
    "    \n",
    "    tfidf_response = tfidf.transform(response)\n",
    "    tfidf_response = tfidf_response.toarray()\n",
    "    \n",
    "    prediction_countvec = gnb1.predict(count_vec)\n",
    "    prediction_tfidf = gnb2.predict(tfidf_response)\n",
    "    \n",
    "    return prediction_countvec,prediction_tfidf\n",
    "                             "
   ]
  },
  {
   "cell_type": "code",
   "execution_count": 13,
   "id": "9ae3dd6e-6e8a-4799-a222-80d019406b2f",
   "metadata": {
    "tags": []
   },
   "outputs": [
    {
     "data": {
      "text/html": [
       "<div>\n",
       "<style scoped>\n",
       "    .dataframe tbody tr th:only-of-type {\n",
       "        vertical-align: middle;\n",
       "    }\n",
       "\n",
       "    .dataframe tbody tr th {\n",
       "        vertical-align: top;\n",
       "    }\n",
       "\n",
       "    .dataframe thead th {\n",
       "        text-align: right;\n",
       "    }\n",
       "</style>\n",
       "<table border=\"1\" class=\"dataframe\">\n",
       "  <thead>\n",
       "    <tr style=\"text-align: right;\">\n",
       "      <th></th>\n",
       "      <th>response</th>\n",
       "    </tr>\n",
       "  </thead>\n",
       "  <tbody>\n",
       "    <tr>\n",
       "      <th>0</th>\n",
       "      <td>the car horrible</td>\n",
       "    </tr>\n",
       "    <tr>\n",
       "      <th>1</th>\n",
       "      <td>the car smartphone integration works poorly</td>\n",
       "    </tr>\n",
       "    <tr>\n",
       "      <th>2</th>\n",
       "      <td>the car excellent</td>\n",
       "    </tr>\n",
       "    <tr>\n",
       "      <th>3</th>\n",
       "      <td>car ordinary</td>\n",
       "    </tr>\n",
       "  </tbody>\n",
       "</table>\n",
       "</div>"
      ],
      "text/plain": [
       "                                      response\n",
       "0                             the car horrible\n",
       "1  the car smartphone integration works poorly\n",
       "2                            the car excellent\n",
       "3                                 car ordinary"
      ]
     },
     "execution_count": 13,
     "metadata": {},
     "output_type": "execute_result"
    }
   ],
   "source": [
    "# New data to predict upon\n",
    "resp = [\"The car is horrible\",'The car smartphone integration works poorly',\"The car is excellent\",\"the car is ordinary\"]\n",
    "\n",
    "# Convert to dataframe\n",
    "new_input = pd.DataFrame({\"response\":resp})\n",
    "\n",
    "# Do they same text preprocessing as on training data\n",
    "new_input['response'] = new_input['response'].apply(lambda words: ' '.join(word.lower() for word in words.split() if word not in stop_words))\n",
    "\n",
    "new_input"
   ]
  },
  {
   "cell_type": "code",
   "execution_count": 14,
   "id": "aed7e78b-6ff1-40b4-b679-ae468dbac538",
   "metadata": {
    "tags": []
   },
   "outputs": [
    {
     "name": "stdout",
     "output_type": "stream",
     "text": [
      "Countvectorizer Based: ['negative' 'negative' 'positive' 'neutral']\n",
      "\n",
      "TFIDF based: ['negative' 'negative' 'positive' 'positive']\n",
      "\n",
      "Correct answer should be: ['negative', 'negative', 'positive', 'neutral']\n"
     ]
    }
   ],
   "source": [
    "# Predict on the new inputs\n",
    "\n",
    "results = predict_sentiment(new_input['response'])\n",
    "print(f\"Countvectorizer Based: {results[0]}\\n\\nTFIDF based: {results[1]}\\n\\nCorrect answer should be: {['negative','negative','positive','neutral']}\")"
   ]
  },
  {
   "cell_type": "code",
   "execution_count": null,
   "id": "dc728e93-2097-4e10-85c2-0f23dc46ab7a",
   "metadata": {},
   "outputs": [],
   "source": []
  }
 ],
 "metadata": {
  "kernelspec": {
   "display_name": "Python 3 (ipykernel)",
   "language": "python",
   "name": "python3"
  },
  "language_info": {
   "codemirror_mode": {
    "name": "ipython",
    "version": 3
   },
   "file_extension": ".py",
   "mimetype": "text/x-python",
   "name": "python",
   "nbconvert_exporter": "python",
   "pygments_lexer": "ipython3",
   "version": "3.10.11"
  }
 },
 "nbformat": 4,
 "nbformat_minor": 5
}
